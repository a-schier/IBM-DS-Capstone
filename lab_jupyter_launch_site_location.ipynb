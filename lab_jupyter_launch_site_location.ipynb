{
 "cells": [
  {
   "cell_type": "markdown",
   "metadata": {
    "id": "3n3ltmfnrqpi",
    "outputId": "a2d4f52a-2fb7-4668-f5f0-fe862aab8eb0",
    "papermill": {
     "duration": 1.489571,
     "end_time": "2020-09-19T06:26:57.168979",
     "exception": false,
     "start_time": "2020-09-19T06:26:55.679408",
     "status": "completed"
    },
    "tags": []
   },
   "source": [
    "<center>\n",
    "    <img src=\"https://gitlab.com/ibm/skills-network/courses/placeholder101/-/raw/master/labs/module%201/images/IDSNlogo.png\" width=\"300\" alt=\"cognitiveclass.ai logo\"  />\n",
    "</center>\n"
   ]
  },
  {
   "cell_type": "markdown",
   "metadata": {},
   "source": [
    "# **Launch Sites Locations Analysis with Folium**\n"
   ]
  },
  {
   "cell_type": "markdown",
   "metadata": {},
   "source": [
    "Estimated time needed: **40** minutes\n"
   ]
  },
  {
   "cell_type": "markdown",
   "metadata": {},
   "source": [
    "The launch success rate may depend on many factors such as payload mass, orbit type, and so on. It may also depend on the location and proximities of a launch site, i.e., the initial position of rocket trajectories. Finding an optimal location for building a launch site certainly involves many factors and hopefully we could discover some of the factors by analyzing the existing launch site locations.\n"
   ]
  },
  {
   "cell_type": "markdown",
   "metadata": {},
   "source": [
    "In the previous exploratory data analysis labs, you have visualized the SpaceX launch dataset using `matplotlib` and `seaborn` and discovered some preliminary correlations between the launch site and success rates. In this lab, you will be performing more interactive visual analytics using `Folium`.\n"
   ]
  },
  {
   "cell_type": "markdown",
   "metadata": {},
   "source": [
    "## Objectives\n"
   ]
  },
  {
   "cell_type": "markdown",
   "metadata": {},
   "source": [
    "This lab contains the following tasks:\n",
    "\n",
    "*   **TASK 1:** Mark all launch sites on a map\n",
    "*   **TASK 2:** Mark the success/failed launches for each site on the map\n",
    "*   **TASK 3:** Calculate the distances between a launch site to its proximities\n",
    "\n",
    "After completed the above tasks, you should be able to find some geographical patterns about launch sites.\n"
   ]
  },
  {
   "cell_type": "markdown",
   "metadata": {},
   "source": [
    "Let's first import required Python packages for this lab:\n"
   ]
  },
  {
   "cell_type": "code",
   "execution_count": 1,
   "metadata": {},
   "outputs": [],
   "source": [
    "#!pip3 install folium\n",
    "#!pip3 install wget"
   ]
  },
  {
   "cell_type": "code",
   "execution_count": 2,
   "metadata": {},
   "outputs": [],
   "source": [
    "import folium\n",
    "import wget\n",
    "import pandas as pd\n",
    "from IPython.display import display"
   ]
  },
  {
   "cell_type": "code",
   "execution_count": 3,
   "metadata": {},
   "outputs": [],
   "source": [
    "# Import folium MarkerCluster plugin\n",
    "from folium.plugins import MarkerCluster\n",
    "# Import folium MousePosition plugin\n",
    "from folium.plugins import MousePosition\n",
    "# Import folium DivIcon plugin\n",
    "from folium.features import DivIcon"
   ]
  },
  {
   "cell_type": "markdown",
   "metadata": {},
   "source": [
    "If you need to refresh your memory about folium, you may download and refer to this previous folium lab:\n"
   ]
  },
  {
   "cell_type": "markdown",
   "metadata": {},
   "source": [
    "[Generating Maps with Python](https://cf-courses-data.s3.us.cloud-object-storage.appdomain.cloud/IBM-DS0321EN-SkillsNetwork/labs/module\\_3/DV0101EN-3-5-1-Generating-Maps-in-Python-py-v2.0.ipynb)\n"
   ]
  },
  {
   "cell_type": "markdown",
   "metadata": {},
   "source": [
    "## Task 1: Mark all launch sites on a map\n"
   ]
  },
  {
   "cell_type": "markdown",
   "metadata": {},
   "source": [
    "First, let's try to add each site's location on a map using site's latitude and longitude coordinates\n"
   ]
  },
  {
   "cell_type": "markdown",
   "metadata": {},
   "source": [
    "The following dataset with the name `spacex_launch_geo.csv` is an augmented dataset with latitude and longitude added for each site.\n"
   ]
  },
  {
   "cell_type": "code",
   "execution_count": 4,
   "metadata": {},
   "outputs": [
    {
     "name": "stdout",
     "output_type": "stream",
     "text": [
      "\r",
      "  0% [                                                            ]    0 / 8966\r",
      " 91% [......................................................      ] 8192 / 8966\r",
      "100% [............................................................] 8966 / 8966"
     ]
    }
   ],
   "source": [
    "# Download and read the `spacex_launch_geo.csv`\n",
    "spacex_csv_file = wget.download('https://cf-courses-data.s3.us.cloud-object-storage.appdomain.cloud/IBM-DS0321EN-SkillsNetwork/datasets/spacex_launch_geo.csv')\n",
    "spacex_df=pd.read_csv(spacex_csv_file)"
   ]
  },
  {
   "cell_type": "markdown",
   "metadata": {},
   "source": [
    "Now, you can take a look at what are the coordinates for each site.\n"
   ]
  },
  {
   "cell_type": "code",
   "execution_count": 5,
   "metadata": {},
   "outputs": [
    {
     "data": {
      "text/html": [
       "<div>\n",
       "<style scoped>\n",
       "    .dataframe tbody tr th:only-of-type {\n",
       "        vertical-align: middle;\n",
       "    }\n",
       "\n",
       "    .dataframe tbody tr th {\n",
       "        vertical-align: top;\n",
       "    }\n",
       "\n",
       "    .dataframe thead th {\n",
       "        text-align: right;\n",
       "    }\n",
       "</style>\n",
       "<table border=\"1\" class=\"dataframe\">\n",
       "  <thead>\n",
       "    <tr style=\"text-align: right;\">\n",
       "      <th></th>\n",
       "      <th>Launch Site</th>\n",
       "      <th>Lat</th>\n",
       "      <th>Long</th>\n",
       "    </tr>\n",
       "  </thead>\n",
       "  <tbody>\n",
       "    <tr>\n",
       "      <th>0</th>\n",
       "      <td>CCAFS LC-40</td>\n",
       "      <td>28.562302</td>\n",
       "      <td>-80.577356</td>\n",
       "    </tr>\n",
       "    <tr>\n",
       "      <th>1</th>\n",
       "      <td>CCAFS SLC-40</td>\n",
       "      <td>28.563197</td>\n",
       "      <td>-80.576820</td>\n",
       "    </tr>\n",
       "    <tr>\n",
       "      <th>2</th>\n",
       "      <td>KSC LC-39A</td>\n",
       "      <td>28.573255</td>\n",
       "      <td>-80.646895</td>\n",
       "    </tr>\n",
       "    <tr>\n",
       "      <th>3</th>\n",
       "      <td>VAFB SLC-4E</td>\n",
       "      <td>34.632834</td>\n",
       "      <td>-120.610746</td>\n",
       "    </tr>\n",
       "  </tbody>\n",
       "</table>\n",
       "</div>"
      ],
      "text/plain": [
       "    Launch Site        Lat        Long\n",
       "0   CCAFS LC-40  28.562302  -80.577356\n",
       "1  CCAFS SLC-40  28.563197  -80.576820\n",
       "2    KSC LC-39A  28.573255  -80.646895\n",
       "3   VAFB SLC-4E  34.632834 -120.610746"
      ]
     },
     "execution_count": 5,
     "metadata": {},
     "output_type": "execute_result"
    }
   ],
   "source": [
    "# Select relevant sub-columns: `Launch Site`, `Lat(Latitude)`, `Long(Longitude)`, `class`\n",
    "spacex_df = spacex_df[['Launch Site', 'Lat', 'Long', 'class']]\n",
    "launch_sites_df = spacex_df.groupby(['Launch Site'], as_index=False).first()\n",
    "launch_sites_df = launch_sites_df[['Launch Site', 'Lat', 'Long']]\n",
    "launch_sites_df"
   ]
  },
  {
   "cell_type": "markdown",
   "metadata": {},
   "source": [
    "Above coordinates are just plain numbers that can not give you any intuitive insights about where are those launch sites. If you are very good at geography, you can interpret those numbers directly in your mind. If not, that's fine too. Let's visualize those locations by pinning them on a map.\n"
   ]
  },
  {
   "cell_type": "markdown",
   "metadata": {},
   "source": [
    "We first need to create a folium `Map` object, with an initial center location to be NASA Johnson Space Center at Houston, Texas.\n"
   ]
  },
  {
   "cell_type": "code",
   "execution_count": 15,
   "metadata": {},
   "outputs": [],
   "source": [
    "# Start location is NASA Johnson Space Center\n",
    "nasa_coordinate = [29.559684888503615, -95.0830971930759]\n",
    "site_map = folium.Map(location=nasa_coordinate, zoom_start=10)"
   ]
  },
  {
   "cell_type": "markdown",
   "metadata": {},
   "source": [
    "We could use `folium.Circle` to add a highlighted circle area with a text label on a specific coordinate. For example,\n"
   ]
  },
  {
   "cell_type": "code",
   "execution_count": 16,
   "metadata": {},
   "outputs": [
    {
     "data": {
      "text/html": [
       "<div style=\"width:100%;\"><div style=\"position:relative;width:100%;height:0;padding-bottom:60%;\"><span style=\"color:#565656\">Make this Notebook Trusted to load map: File -> Trust Notebook</span><iframe src=\"about:blank\" style=\"position:absolute;width:100%;height:100%;left:0;top:0;border:none !important;\" data-html=%3C%21DOCTYPE%20html%3E%0A%3Chead%3E%20%20%20%20%0A%20%20%20%20%3Cmeta%20http-equiv%3D%22content-type%22%20content%3D%22text/html%3B%20charset%3DUTF-8%22%20/%3E%0A%20%20%20%20%0A%20%20%20%20%20%20%20%20%3Cscript%3E%0A%20%20%20%20%20%20%20%20%20%20%20%20L_NO_TOUCH%20%3D%20false%3B%0A%20%20%20%20%20%20%20%20%20%20%20%20L_DISABLE_3D%20%3D%20false%3B%0A%20%20%20%20%20%20%20%20%3C/script%3E%0A%20%20%20%20%0A%20%20%20%20%3Cstyle%3Ehtml%2C%20body%20%7Bwidth%3A%20100%25%3Bheight%3A%20100%25%3Bmargin%3A%200%3Bpadding%3A%200%3B%7D%3C/style%3E%0A%20%20%20%20%3Cstyle%3E%23map%20%7Bposition%3Aabsolute%3Btop%3A0%3Bbottom%3A0%3Bright%3A0%3Bleft%3A0%3B%7D%3C/style%3E%0A%20%20%20%20%3Cscript%20src%3D%22https%3A//cdn.jsdelivr.net/npm/leaflet%401.6.0/dist/leaflet.js%22%3E%3C/script%3E%0A%20%20%20%20%3Cscript%20src%3D%22https%3A//code.jquery.com/jquery-1.12.4.min.js%22%3E%3C/script%3E%0A%20%20%20%20%3Cscript%20src%3D%22https%3A//maxcdn.bootstrapcdn.com/bootstrap/3.2.0/js/bootstrap.min.js%22%3E%3C/script%3E%0A%20%20%20%20%3Cscript%20src%3D%22https%3A//cdnjs.cloudflare.com/ajax/libs/Leaflet.awesome-markers/2.0.2/leaflet.awesome-markers.js%22%3E%3C/script%3E%0A%20%20%20%20%3Clink%20rel%3D%22stylesheet%22%20href%3D%22https%3A//cdn.jsdelivr.net/npm/leaflet%401.6.0/dist/leaflet.css%22/%3E%0A%20%20%20%20%3Clink%20rel%3D%22stylesheet%22%20href%3D%22https%3A//maxcdn.bootstrapcdn.com/bootstrap/3.2.0/css/bootstrap.min.css%22/%3E%0A%20%20%20%20%3Clink%20rel%3D%22stylesheet%22%20href%3D%22https%3A//maxcdn.bootstrapcdn.com/bootstrap/3.2.0/css/bootstrap-theme.min.css%22/%3E%0A%20%20%20%20%3Clink%20rel%3D%22stylesheet%22%20href%3D%22https%3A//maxcdn.bootstrapcdn.com/font-awesome/4.6.3/css/font-awesome.min.css%22/%3E%0A%20%20%20%20%3Clink%20rel%3D%22stylesheet%22%20href%3D%22https%3A//cdnjs.cloudflare.com/ajax/libs/Leaflet.awesome-markers/2.0.2/leaflet.awesome-markers.css%22/%3E%0A%20%20%20%20%3Clink%20rel%3D%22stylesheet%22%20href%3D%22https%3A//cdn.jsdelivr.net/gh/python-visualization/folium/folium/templates/leaflet.awesome.rotate.min.css%22/%3E%0A%20%20%20%20%0A%20%20%20%20%20%20%20%20%20%20%20%20%3Cmeta%20name%3D%22viewport%22%20content%3D%22width%3Ddevice-width%2C%0A%20%20%20%20%20%20%20%20%20%20%20%20%20%20%20%20initial-scale%3D1.0%2C%20maximum-scale%3D1.0%2C%20user-scalable%3Dno%22%20/%3E%0A%20%20%20%20%20%20%20%20%20%20%20%20%3Cstyle%3E%0A%20%20%20%20%20%20%20%20%20%20%20%20%20%20%20%20%23map_1364759c0dac4bfcb6d498623eda8ab0%20%7B%0A%20%20%20%20%20%20%20%20%20%20%20%20%20%20%20%20%20%20%20%20position%3A%20relative%3B%0A%20%20%20%20%20%20%20%20%20%20%20%20%20%20%20%20%20%20%20%20width%3A%20100.0%25%3B%0A%20%20%20%20%20%20%20%20%20%20%20%20%20%20%20%20%20%20%20%20height%3A%20100.0%25%3B%0A%20%20%20%20%20%20%20%20%20%20%20%20%20%20%20%20%20%20%20%20left%3A%200.0%25%3B%0A%20%20%20%20%20%20%20%20%20%20%20%20%20%20%20%20%20%20%20%20top%3A%200.0%25%3B%0A%20%20%20%20%20%20%20%20%20%20%20%20%20%20%20%20%7D%0A%20%20%20%20%20%20%20%20%20%20%20%20%3C/style%3E%0A%20%20%20%20%20%20%20%20%0A%3C/head%3E%0A%3Cbody%3E%20%20%20%20%0A%20%20%20%20%0A%20%20%20%20%20%20%20%20%20%20%20%20%3Cdiv%20class%3D%22folium-map%22%20id%3D%22map_1364759c0dac4bfcb6d498623eda8ab0%22%20%3E%3C/div%3E%0A%20%20%20%20%20%20%20%20%0A%3C/body%3E%0A%3Cscript%3E%20%20%20%20%0A%20%20%20%20%0A%20%20%20%20%20%20%20%20%20%20%20%20var%20map_1364759c0dac4bfcb6d498623eda8ab0%20%3D%20L.map%28%0A%20%20%20%20%20%20%20%20%20%20%20%20%20%20%20%20%22map_1364759c0dac4bfcb6d498623eda8ab0%22%2C%0A%20%20%20%20%20%20%20%20%20%20%20%20%20%20%20%20%7B%0A%20%20%20%20%20%20%20%20%20%20%20%20%20%20%20%20%20%20%20%20center%3A%20%5B29.559684888503615%2C%20-95.0830971930759%5D%2C%0A%20%20%20%20%20%20%20%20%20%20%20%20%20%20%20%20%20%20%20%20crs%3A%20L.CRS.EPSG3857%2C%0A%20%20%20%20%20%20%20%20%20%20%20%20%20%20%20%20%20%20%20%20zoom%3A%2010%2C%0A%20%20%20%20%20%20%20%20%20%20%20%20%20%20%20%20%20%20%20%20zoomControl%3A%20true%2C%0A%20%20%20%20%20%20%20%20%20%20%20%20%20%20%20%20%20%20%20%20preferCanvas%3A%20false%2C%0A%20%20%20%20%20%20%20%20%20%20%20%20%20%20%20%20%7D%0A%20%20%20%20%20%20%20%20%20%20%20%20%29%3B%0A%0A%20%20%20%20%20%20%20%20%20%20%20%20%0A%0A%20%20%20%20%20%20%20%20%0A%20%20%20%20%0A%20%20%20%20%20%20%20%20%20%20%20%20var%20tile_layer_27e1ed6736004cb0866e18951301139a%20%3D%20L.tileLayer%28%0A%20%20%20%20%20%20%20%20%20%20%20%20%20%20%20%20%22https%3A//%7Bs%7D.tile.openstreetmap.org/%7Bz%7D/%7Bx%7D/%7By%7D.png%22%2C%0A%20%20%20%20%20%20%20%20%20%20%20%20%20%20%20%20%7B%22attribution%22%3A%20%22Data%20by%20%5Cu0026copy%3B%20%5Cu003ca%20href%3D%5C%22http%3A//openstreetmap.org%5C%22%5Cu003eOpenStreetMap%5Cu003c/a%5Cu003e%2C%20under%20%5Cu003ca%20href%3D%5C%22http%3A//www.openstreetmap.org/copyright%5C%22%5Cu003eODbL%5Cu003c/a%5Cu003e.%22%2C%20%22detectRetina%22%3A%20false%2C%20%22maxNativeZoom%22%3A%2018%2C%20%22maxZoom%22%3A%2018%2C%20%22minZoom%22%3A%200%2C%20%22noWrap%22%3A%20false%2C%20%22opacity%22%3A%201%2C%20%22subdomains%22%3A%20%22abc%22%2C%20%22tms%22%3A%20false%7D%0A%20%20%20%20%20%20%20%20%20%20%20%20%29.addTo%28map_1364759c0dac4bfcb6d498623eda8ab0%29%3B%0A%20%20%20%20%20%20%20%20%0A%20%20%20%20%0A%20%20%20%20%20%20%20%20%20%20%20%20var%20circle_8e7e35730bc74790a0234e5039e7b6c9%20%3D%20L.circle%28%0A%20%20%20%20%20%20%20%20%20%20%20%20%20%20%20%20%5B29.559684888503615%2C%20-95.0830971930759%5D%2C%0A%20%20%20%20%20%20%20%20%20%20%20%20%20%20%20%20%7B%22bubblingMouseEvents%22%3A%20true%2C%20%22color%22%3A%20%22%23d35400%22%2C%20%22dashArray%22%3A%20null%2C%20%22dashOffset%22%3A%20null%2C%20%22fill%22%3A%20true%2C%20%22fillColor%22%3A%20%22%23d35400%22%2C%20%22fillOpacity%22%3A%200.2%2C%20%22fillRule%22%3A%20%22evenodd%22%2C%20%22lineCap%22%3A%20%22round%22%2C%20%22lineJoin%22%3A%20%22round%22%2C%20%22opacity%22%3A%201.0%2C%20%22radius%22%3A%201000%2C%20%22stroke%22%3A%20true%2C%20%22weight%22%3A%203%7D%0A%20%20%20%20%20%20%20%20%20%20%20%20%29.addTo%28map_1364759c0dac4bfcb6d498623eda8ab0%29%3B%0A%20%20%20%20%20%20%20%20%0A%20%20%20%20%0A%20%20%20%20%20%20%20%20var%20popup_fd876a01a7ef49fa9879e1e4da1982f4%20%3D%20L.popup%28%7B%22maxWidth%22%3A%20%22100%25%22%7D%29%3B%0A%0A%20%20%20%20%20%20%20%20%0A%20%20%20%20%20%20%20%20%20%20%20%20var%20html_dcdadb124e914b8d85bb6dbfb9a533f0%20%3D%20%24%28%60%3Cdiv%20id%3D%22html_dcdadb124e914b8d85bb6dbfb9a533f0%22%20style%3D%22width%3A%20100.0%25%3B%20height%3A%20100.0%25%3B%22%3ENASA%20Johnson%20Space%20Center%3C/div%3E%60%29%5B0%5D%3B%0A%20%20%20%20%20%20%20%20%20%20%20%20popup_fd876a01a7ef49fa9879e1e4da1982f4.setContent%28html_dcdadb124e914b8d85bb6dbfb9a533f0%29%3B%0A%20%20%20%20%20%20%20%20%0A%0A%20%20%20%20%20%20%20%20circle_8e7e35730bc74790a0234e5039e7b6c9.bindPopup%28popup_fd876a01a7ef49fa9879e1e4da1982f4%29%0A%20%20%20%20%20%20%20%20%3B%0A%0A%20%20%20%20%20%20%20%20%0A%20%20%20%20%0A%20%20%20%20%0A%20%20%20%20%20%20%20%20%20%20%20%20var%20marker_93a46a21beb1436eaa5aa820624f2373%20%3D%20L.marker%28%0A%20%20%20%20%20%20%20%20%20%20%20%20%20%20%20%20%5B29.559684888503615%2C%20-95.0830971930759%5D%2C%0A%20%20%20%20%20%20%20%20%20%20%20%20%20%20%20%20%7B%7D%0A%20%20%20%20%20%20%20%20%20%20%20%20%29.addTo%28map_1364759c0dac4bfcb6d498623eda8ab0%29%3B%0A%20%20%20%20%20%20%20%20%0A%20%20%20%20%0A%20%20%20%20%20%20%20%20%20%20%20%20var%20div_icon_20e06a7138e047f59c94fc85b1a4353f%20%3D%20L.divIcon%28%7B%22className%22%3A%20%22empty%22%2C%20%22html%22%3A%20%22%5Cu003cdiv%20style%3D%5C%22font-size%3A%2012%3B%20color%3A%23d35400%3B%5C%22%5Cu003e%5Cu003cb%5Cu003eNASA%20JSC%5Cu003c/b%5Cu003e%5Cu003c/div%5Cu003e%22%2C%20%22iconAnchor%22%3A%20%5B0%2C%200%5D%2C%20%22iconSize%22%3A%20%5B20%2C%2020%5D%7D%29%3B%0A%20%20%20%20%20%20%20%20%20%20%20%20marker_93a46a21beb1436eaa5aa820624f2373.setIcon%28div_icon_20e06a7138e047f59c94fc85b1a4353f%29%3B%0A%20%20%20%20%20%20%20%20%0A%3C/script%3E onload=\"this.contentDocument.open();this.contentDocument.write(    decodeURIComponent(this.getAttribute('data-html')));this.contentDocument.close();\" allowfullscreen webkitallowfullscreen mozallowfullscreen></iframe></div></div>"
      ],
      "text/plain": [
       "<folium.folium.Map at 0x7f94e7cc3e50>"
      ]
     },
     "execution_count": 16,
     "metadata": {},
     "output_type": "execute_result"
    }
   ],
   "source": [
    "# Create a blue circle at NASA Johnson Space Center's coordinate with a popup label showing its name\n",
    "circle = folium.Circle(nasa_coordinate, radius=1000, color='#d35400', fill=True).add_child(folium.Popup('NASA Johnson Space Center'))\n",
    "# Create a blue circle at NASA Johnson Space Center's coordinate with a icon showing its name\n",
    "marker = folium.map.Marker(\n",
    "    nasa_coordinate,\n",
    "    # Create an icon as a text label\n",
    "    icon=DivIcon(\n",
    "        icon_size=(20,20),\n",
    "        icon_anchor=(0,0),\n",
    "        html='<div style=\"font-size: 12; color:#d35400;\"><b>%s</b></div>' % 'NASA JSC',\n",
    "        )\n",
    "    )\n",
    "site_map.add_child(circle)\n",
    "site_map.add_child(marker)"
   ]
  },
  {
   "cell_type": "markdown",
   "metadata": {},
   "source": [
    "and you should find a small yellow circle near the city of Houston and you can zoom-in to see a larger circle.\n"
   ]
  },
  {
   "cell_type": "markdown",
   "metadata": {},
   "source": [
    "Now, let's add a circle for each launch site in data frame `launch_sites`\n"
   ]
  },
  {
   "cell_type": "markdown",
   "metadata": {},
   "source": [
    "*TODO:*  Create and add `folium.Circle` and `folium.Marker` for each launch site on the site map\n"
   ]
  },
  {
   "cell_type": "markdown",
   "metadata": {},
   "source": [
    "An example of folium.Circle:\n"
   ]
  },
  {
   "cell_type": "markdown",
   "metadata": {},
   "source": [
    "`folium.Circle(coordinate, radius=1000, color='#000000', fill=True).add_child(folium.Popup(...))`\n"
   ]
  },
  {
   "cell_type": "markdown",
   "metadata": {},
   "source": [
    "An example of folium.Marker:\n"
   ]
  },
  {
   "cell_type": "markdown",
   "metadata": {},
   "source": [
    "`folium.map.Marker(coordinate, icon=DivIcon(icon_size=(20,20),icon_anchor=(0,0), html='<div style=\"font-size: 12; color:#d35400;\"><b>%s</b></div>' % 'label', ))`\n"
   ]
  },
  {
   "cell_type": "code",
   "execution_count": 28,
   "metadata": {},
   "outputs": [
    {
     "data": {
      "text/html": [
       "<div style=\"width:100%;\"><div style=\"position:relative;width:100%;height:0;padding-bottom:60%;\"><span style=\"color:#565656\">Make this Notebook Trusted to load map: File -> Trust Notebook</span><iframe src=\"about:blank\" style=\"position:absolute;width:100%;height:100%;left:0;top:0;border:none !important;\" data-html=%3C%21DOCTYPE%20html%3E%0A%3Chead%3E%20%20%20%20%0A%20%20%20%20%3Cmeta%20http-equiv%3D%22content-type%22%20content%3D%22text/html%3B%20charset%3DUTF-8%22%20/%3E%0A%20%20%20%20%0A%20%20%20%20%20%20%20%20%3Cscript%3E%0A%20%20%20%20%20%20%20%20%20%20%20%20L_NO_TOUCH%20%3D%20false%3B%0A%20%20%20%20%20%20%20%20%20%20%20%20L_DISABLE_3D%20%3D%20false%3B%0A%20%20%20%20%20%20%20%20%3C/script%3E%0A%20%20%20%20%0A%20%20%20%20%3Cstyle%3Ehtml%2C%20body%20%7Bwidth%3A%20100%25%3Bheight%3A%20100%25%3Bmargin%3A%200%3Bpadding%3A%200%3B%7D%3C/style%3E%0A%20%20%20%20%3Cstyle%3E%23map%20%7Bposition%3Aabsolute%3Btop%3A0%3Bbottom%3A0%3Bright%3A0%3Bleft%3A0%3B%7D%3C/style%3E%0A%20%20%20%20%3Cscript%20src%3D%22https%3A//cdn.jsdelivr.net/npm/leaflet%401.6.0/dist/leaflet.js%22%3E%3C/script%3E%0A%20%20%20%20%3Cscript%20src%3D%22https%3A//code.jquery.com/jquery-1.12.4.min.js%22%3E%3C/script%3E%0A%20%20%20%20%3Cscript%20src%3D%22https%3A//maxcdn.bootstrapcdn.com/bootstrap/3.2.0/js/bootstrap.min.js%22%3E%3C/script%3E%0A%20%20%20%20%3Cscript%20src%3D%22https%3A//cdnjs.cloudflare.com/ajax/libs/Leaflet.awesome-markers/2.0.2/leaflet.awesome-markers.js%22%3E%3C/script%3E%0A%20%20%20%20%3Clink%20rel%3D%22stylesheet%22%20href%3D%22https%3A//cdn.jsdelivr.net/npm/leaflet%401.6.0/dist/leaflet.css%22/%3E%0A%20%20%20%20%3Clink%20rel%3D%22stylesheet%22%20href%3D%22https%3A//maxcdn.bootstrapcdn.com/bootstrap/3.2.0/css/bootstrap.min.css%22/%3E%0A%20%20%20%20%3Clink%20rel%3D%22stylesheet%22%20href%3D%22https%3A//maxcdn.bootstrapcdn.com/bootstrap/3.2.0/css/bootstrap-theme.min.css%22/%3E%0A%20%20%20%20%3Clink%20rel%3D%22stylesheet%22%20href%3D%22https%3A//maxcdn.bootstrapcdn.com/font-awesome/4.6.3/css/font-awesome.min.css%22/%3E%0A%20%20%20%20%3Clink%20rel%3D%22stylesheet%22%20href%3D%22https%3A//cdnjs.cloudflare.com/ajax/libs/Leaflet.awesome-markers/2.0.2/leaflet.awesome-markers.css%22/%3E%0A%20%20%20%20%3Clink%20rel%3D%22stylesheet%22%20href%3D%22https%3A//cdn.jsdelivr.net/gh/python-visualization/folium/folium/templates/leaflet.awesome.rotate.min.css%22/%3E%0A%20%20%20%20%0A%20%20%20%20%20%20%20%20%20%20%20%20%3Cmeta%20name%3D%22viewport%22%20content%3D%22width%3Ddevice-width%2C%0A%20%20%20%20%20%20%20%20%20%20%20%20%20%20%20%20initial-scale%3D1.0%2C%20maximum-scale%3D1.0%2C%20user-scalable%3Dno%22%20/%3E%0A%20%20%20%20%20%20%20%20%20%20%20%20%3Cstyle%3E%0A%20%20%20%20%20%20%20%20%20%20%20%20%20%20%20%20%23map_c1a9c167272e42998ca0690d833f7617%20%7B%0A%20%20%20%20%20%20%20%20%20%20%20%20%20%20%20%20%20%20%20%20position%3A%20relative%3B%0A%20%20%20%20%20%20%20%20%20%20%20%20%20%20%20%20%20%20%20%20width%3A%20100.0%25%3B%0A%20%20%20%20%20%20%20%20%20%20%20%20%20%20%20%20%20%20%20%20height%3A%20100.0%25%3B%0A%20%20%20%20%20%20%20%20%20%20%20%20%20%20%20%20%20%20%20%20left%3A%200.0%25%3B%0A%20%20%20%20%20%20%20%20%20%20%20%20%20%20%20%20%20%20%20%20top%3A%200.0%25%3B%0A%20%20%20%20%20%20%20%20%20%20%20%20%20%20%20%20%7D%0A%20%20%20%20%20%20%20%20%20%20%20%20%3C/style%3E%0A%20%20%20%20%20%20%20%20%0A%3C/head%3E%0A%3Cbody%3E%20%20%20%20%0A%20%20%20%20%0A%20%20%20%20%20%20%20%20%20%20%20%20%3Cdiv%20class%3D%22folium-map%22%20id%3D%22map_c1a9c167272e42998ca0690d833f7617%22%20%3E%3C/div%3E%0A%20%20%20%20%20%20%20%20%0A%3C/body%3E%0A%3Cscript%3E%20%20%20%20%0A%20%20%20%20%0A%20%20%20%20%20%20%20%20%20%20%20%20var%20map_c1a9c167272e42998ca0690d833f7617%20%3D%20L.map%28%0A%20%20%20%20%20%20%20%20%20%20%20%20%20%20%20%20%22map_c1a9c167272e42998ca0690d833f7617%22%2C%0A%20%20%20%20%20%20%20%20%20%20%20%20%20%20%20%20%7B%0A%20%20%20%20%20%20%20%20%20%20%20%20%20%20%20%20%20%20%20%20center%3A%20%5B29.559684888503615%2C%20-95.0830971930759%5D%2C%0A%20%20%20%20%20%20%20%20%20%20%20%20%20%20%20%20%20%20%20%20crs%3A%20L.CRS.EPSG3857%2C%0A%20%20%20%20%20%20%20%20%20%20%20%20%20%20%20%20%20%20%20%20zoom%3A%205%2C%0A%20%20%20%20%20%20%20%20%20%20%20%20%20%20%20%20%20%20%20%20zoomControl%3A%20true%2C%0A%20%20%20%20%20%20%20%20%20%20%20%20%20%20%20%20%20%20%20%20preferCanvas%3A%20false%2C%0A%20%20%20%20%20%20%20%20%20%20%20%20%20%20%20%20%7D%0A%20%20%20%20%20%20%20%20%20%20%20%20%29%3B%0A%0A%20%20%20%20%20%20%20%20%20%20%20%20%0A%0A%20%20%20%20%20%20%20%20%0A%20%20%20%20%0A%20%20%20%20%20%20%20%20%20%20%20%20var%20tile_layer_35596bc185974000ac53cefd33422432%20%3D%20L.tileLayer%28%0A%20%20%20%20%20%20%20%20%20%20%20%20%20%20%20%20%22https%3A//%7Bs%7D.tile.openstreetmap.org/%7Bz%7D/%7Bx%7D/%7By%7D.png%22%2C%0A%20%20%20%20%20%20%20%20%20%20%20%20%20%20%20%20%7B%22attribution%22%3A%20%22Data%20by%20%5Cu0026copy%3B%20%5Cu003ca%20href%3D%5C%22http%3A//openstreetmap.org%5C%22%5Cu003eOpenStreetMap%5Cu003c/a%5Cu003e%2C%20under%20%5Cu003ca%20href%3D%5C%22http%3A//www.openstreetmap.org/copyright%5C%22%5Cu003eODbL%5Cu003c/a%5Cu003e.%22%2C%20%22detectRetina%22%3A%20false%2C%20%22maxNativeZoom%22%3A%2018%2C%20%22maxZoom%22%3A%2018%2C%20%22minZoom%22%3A%200%2C%20%22noWrap%22%3A%20false%2C%20%22opacity%22%3A%201%2C%20%22subdomains%22%3A%20%22abc%22%2C%20%22tms%22%3A%20false%7D%0A%20%20%20%20%20%20%20%20%20%20%20%20%29.addTo%28map_c1a9c167272e42998ca0690d833f7617%29%3B%0A%20%20%20%20%20%20%20%20%0A%20%20%20%20%0A%20%20%20%20%20%20%20%20%20%20%20%20var%20circle_2d98aac5fb584c4f934e7f455129eb04%20%3D%20L.circle%28%0A%20%20%20%20%20%20%20%20%20%20%20%20%20%20%20%20%5B28.56230196799018%2C%20-80.57735647504778%5D%2C%0A%20%20%20%20%20%20%20%20%20%20%20%20%20%20%20%20%7B%22bubblingMouseEvents%22%3A%20true%2C%20%22color%22%3A%20%22%23d35400%22%2C%20%22dashArray%22%3A%20null%2C%20%22dashOffset%22%3A%20null%2C%20%22fill%22%3A%20true%2C%20%22fillColor%22%3A%20%22%23d35400%22%2C%20%22fillOpacity%22%3A%200.2%2C%20%22fillRule%22%3A%20%22evenodd%22%2C%20%22lineCap%22%3A%20%22round%22%2C%20%22lineJoin%22%3A%20%22round%22%2C%20%22opacity%22%3A%201.0%2C%20%22radius%22%3A%201000%2C%20%22stroke%22%3A%20true%2C%20%22weight%22%3A%203%7D%0A%20%20%20%20%20%20%20%20%20%20%20%20%29.addTo%28map_c1a9c167272e42998ca0690d833f7617%29%3B%0A%20%20%20%20%20%20%20%20%0A%20%20%20%20%0A%20%20%20%20%20%20%20%20var%20popup_8b5badc08cc148f9800e681426cf6de2%20%3D%20L.popup%28%7B%22maxWidth%22%3A%20%22100%25%22%7D%29%3B%0A%0A%20%20%20%20%20%20%20%20%0A%20%20%20%20%20%20%20%20%20%20%20%20var%20html_09d7da080e804078a379abbf5bb59910%20%3D%20%24%28%60%3Cdiv%20id%3D%22html_09d7da080e804078a379abbf5bb59910%22%20style%3D%22width%3A%20100.0%25%3B%20height%3A%20100.0%25%3B%22%3ECCAFS%20LC-40%3C/div%3E%60%29%5B0%5D%3B%0A%20%20%20%20%20%20%20%20%20%20%20%20popup_8b5badc08cc148f9800e681426cf6de2.setContent%28html_09d7da080e804078a379abbf5bb59910%29%3B%0A%20%20%20%20%20%20%20%20%0A%0A%20%20%20%20%20%20%20%20circle_2d98aac5fb584c4f934e7f455129eb04.bindPopup%28popup_8b5badc08cc148f9800e681426cf6de2%29%0A%20%20%20%20%20%20%20%20%3B%0A%0A%20%20%20%20%20%20%20%20%0A%20%20%20%20%0A%20%20%20%20%0A%20%20%20%20%20%20%20%20%20%20%20%20var%20marker_9e1b042fc9174df59c9fa7b878918612%20%3D%20L.marker%28%0A%20%20%20%20%20%20%20%20%20%20%20%20%20%20%20%20%5B28.56230196799018%2C%20-80.57735647504778%5D%2C%0A%20%20%20%20%20%20%20%20%20%20%20%20%20%20%20%20%7B%7D%0A%20%20%20%20%20%20%20%20%20%20%20%20%29.addTo%28map_c1a9c167272e42998ca0690d833f7617%29%3B%0A%20%20%20%20%20%20%20%20%0A%20%20%20%20%0A%20%20%20%20%20%20%20%20%20%20%20%20var%20div_icon_4b2846ee9d7841ef959f8a46acf2c5e1%20%3D%20L.divIcon%28%7B%22className%22%3A%20%22empty%22%2C%20%22html%22%3A%20%22%5Cu003cdiv%20style%3D%5C%22font-size%3A%2012%3B%20color%3A%23d35400%3B%5C%22%5Cu003e%5Cu003cb%5Cu003eCCAFS%20LC-40%5Cu003c/b%5Cu003e%5Cu003c/div%5Cu003e%22%2C%20%22iconAnchor%22%3A%20%5B0%2C%200%5D%2C%20%22iconSize%22%3A%20%5B20%2C%2020%5D%7D%29%3B%0A%20%20%20%20%20%20%20%20%20%20%20%20marker_9e1b042fc9174df59c9fa7b878918612.setIcon%28div_icon_4b2846ee9d7841ef959f8a46acf2c5e1%29%3B%0A%20%20%20%20%20%20%20%20%0A%20%20%20%20%0A%20%20%20%20%20%20%20%20%20%20%20%20var%20circle_4cb9e519c44f4114bb5fb9eb5b4e3607%20%3D%20L.circle%28%0A%20%20%20%20%20%20%20%20%20%20%20%20%20%20%20%20%5B28.563197177407144%2C%20-80.57682003124195%5D%2C%0A%20%20%20%20%20%20%20%20%20%20%20%20%20%20%20%20%7B%22bubblingMouseEvents%22%3A%20true%2C%20%22color%22%3A%20%22%23d35400%22%2C%20%22dashArray%22%3A%20null%2C%20%22dashOffset%22%3A%20null%2C%20%22fill%22%3A%20true%2C%20%22fillColor%22%3A%20%22%23d35400%22%2C%20%22fillOpacity%22%3A%200.2%2C%20%22fillRule%22%3A%20%22evenodd%22%2C%20%22lineCap%22%3A%20%22round%22%2C%20%22lineJoin%22%3A%20%22round%22%2C%20%22opacity%22%3A%201.0%2C%20%22radius%22%3A%201000%2C%20%22stroke%22%3A%20true%2C%20%22weight%22%3A%203%7D%0A%20%20%20%20%20%20%20%20%20%20%20%20%29.addTo%28map_c1a9c167272e42998ca0690d833f7617%29%3B%0A%20%20%20%20%20%20%20%20%0A%20%20%20%20%0A%20%20%20%20%20%20%20%20var%20popup_0e572bedd7c34b1984b08b7ed1754d1c%20%3D%20L.popup%28%7B%22maxWidth%22%3A%20%22100%25%22%7D%29%3B%0A%0A%20%20%20%20%20%20%20%20%0A%20%20%20%20%20%20%20%20%20%20%20%20var%20html_99f100516521489788dbe371819c5105%20%3D%20%24%28%60%3Cdiv%20id%3D%22html_99f100516521489788dbe371819c5105%22%20style%3D%22width%3A%20100.0%25%3B%20height%3A%20100.0%25%3B%22%3ECCAFS%20SLC-40%3C/div%3E%60%29%5B0%5D%3B%0A%20%20%20%20%20%20%20%20%20%20%20%20popup_0e572bedd7c34b1984b08b7ed1754d1c.setContent%28html_99f100516521489788dbe371819c5105%29%3B%0A%20%20%20%20%20%20%20%20%0A%0A%20%20%20%20%20%20%20%20circle_4cb9e519c44f4114bb5fb9eb5b4e3607.bindPopup%28popup_0e572bedd7c34b1984b08b7ed1754d1c%29%0A%20%20%20%20%20%20%20%20%3B%0A%0A%20%20%20%20%20%20%20%20%0A%20%20%20%20%0A%20%20%20%20%0A%20%20%20%20%20%20%20%20%20%20%20%20var%20marker_5f6417a2cd064547b4c67436948b8a2c%20%3D%20L.marker%28%0A%20%20%20%20%20%20%20%20%20%20%20%20%20%20%20%20%5B28.563197177407144%2C%20-80.57682003124195%5D%2C%0A%20%20%20%20%20%20%20%20%20%20%20%20%20%20%20%20%7B%7D%0A%20%20%20%20%20%20%20%20%20%20%20%20%29.addTo%28map_c1a9c167272e42998ca0690d833f7617%29%3B%0A%20%20%20%20%20%20%20%20%0A%20%20%20%20%0A%20%20%20%20%20%20%20%20%20%20%20%20var%20div_icon_31bd4f95d65245dc94e6f370b651506b%20%3D%20L.divIcon%28%7B%22className%22%3A%20%22empty%22%2C%20%22html%22%3A%20%22%5Cu003cdiv%20style%3D%5C%22font-size%3A%2012%3B%20color%3A%23d35400%3B%5C%22%5Cu003e%5Cu003cb%5Cu003eCCAFS%20SLC-40%5Cu003c/b%5Cu003e%5Cu003c/div%5Cu003e%22%2C%20%22iconAnchor%22%3A%20%5B0%2C%200%5D%2C%20%22iconSize%22%3A%20%5B20%2C%2020%5D%7D%29%3B%0A%20%20%20%20%20%20%20%20%20%20%20%20marker_5f6417a2cd064547b4c67436948b8a2c.setIcon%28div_icon_31bd4f95d65245dc94e6f370b651506b%29%3B%0A%20%20%20%20%20%20%20%20%0A%20%20%20%20%0A%20%20%20%20%20%20%20%20%20%20%20%20var%20circle_b670475dc98143d7bb5404c56ad3c8c2%20%3D%20L.circle%28%0A%20%20%20%20%20%20%20%20%20%20%20%20%20%20%20%20%5B28.57325457037815%2C%20-80.64689528960382%5D%2C%0A%20%20%20%20%20%20%20%20%20%20%20%20%20%20%20%20%7B%22bubblingMouseEvents%22%3A%20true%2C%20%22color%22%3A%20%22%23d35400%22%2C%20%22dashArray%22%3A%20null%2C%20%22dashOffset%22%3A%20null%2C%20%22fill%22%3A%20true%2C%20%22fillColor%22%3A%20%22%23d35400%22%2C%20%22fillOpacity%22%3A%200.2%2C%20%22fillRule%22%3A%20%22evenodd%22%2C%20%22lineCap%22%3A%20%22round%22%2C%20%22lineJoin%22%3A%20%22round%22%2C%20%22opacity%22%3A%201.0%2C%20%22radius%22%3A%201000%2C%20%22stroke%22%3A%20true%2C%20%22weight%22%3A%203%7D%0A%20%20%20%20%20%20%20%20%20%20%20%20%29.addTo%28map_c1a9c167272e42998ca0690d833f7617%29%3B%0A%20%20%20%20%20%20%20%20%0A%20%20%20%20%0A%20%20%20%20%20%20%20%20var%20popup_d36f68091e5342c18081d779d7fc24f5%20%3D%20L.popup%28%7B%22maxWidth%22%3A%20%22100%25%22%7D%29%3B%0A%0A%20%20%20%20%20%20%20%20%0A%20%20%20%20%20%20%20%20%20%20%20%20var%20html_d4f96e5add7146d98e5ba72997114ffb%20%3D%20%24%28%60%3Cdiv%20id%3D%22html_d4f96e5add7146d98e5ba72997114ffb%22%20style%3D%22width%3A%20100.0%25%3B%20height%3A%20100.0%25%3B%22%3EKSC%20LC-39A%3C/div%3E%60%29%5B0%5D%3B%0A%20%20%20%20%20%20%20%20%20%20%20%20popup_d36f68091e5342c18081d779d7fc24f5.setContent%28html_d4f96e5add7146d98e5ba72997114ffb%29%3B%0A%20%20%20%20%20%20%20%20%0A%0A%20%20%20%20%20%20%20%20circle_b670475dc98143d7bb5404c56ad3c8c2.bindPopup%28popup_d36f68091e5342c18081d779d7fc24f5%29%0A%20%20%20%20%20%20%20%20%3B%0A%0A%20%20%20%20%20%20%20%20%0A%20%20%20%20%0A%20%20%20%20%0A%20%20%20%20%20%20%20%20%20%20%20%20var%20marker_38886ce887b24375b199f6744dbe54d0%20%3D%20L.marker%28%0A%20%20%20%20%20%20%20%20%20%20%20%20%20%20%20%20%5B28.57325457037815%2C%20-80.64689528960382%5D%2C%0A%20%20%20%20%20%20%20%20%20%20%20%20%20%20%20%20%7B%7D%0A%20%20%20%20%20%20%20%20%20%20%20%20%29.addTo%28map_c1a9c167272e42998ca0690d833f7617%29%3B%0A%20%20%20%20%20%20%20%20%0A%20%20%20%20%0A%20%20%20%20%20%20%20%20%20%20%20%20var%20div_icon_3dc958ec029e4f8eb68e2d2a9a78633f%20%3D%20L.divIcon%28%7B%22className%22%3A%20%22empty%22%2C%20%22html%22%3A%20%22%5Cu003cdiv%20style%3D%5C%22font-size%3A%2012%3B%20color%3A%23d35400%3B%5C%22%5Cu003e%5Cu003cb%5Cu003eKSC%20LC-39A%5Cu003c/b%5Cu003e%5Cu003c/div%5Cu003e%22%2C%20%22iconAnchor%22%3A%20%5B0%2C%200%5D%2C%20%22iconSize%22%3A%20%5B20%2C%2020%5D%7D%29%3B%0A%20%20%20%20%20%20%20%20%20%20%20%20marker_38886ce887b24375b199f6744dbe54d0.setIcon%28div_icon_3dc958ec029e4f8eb68e2d2a9a78633f%29%3B%0A%20%20%20%20%20%20%20%20%0A%20%20%20%20%0A%20%20%20%20%20%20%20%20%20%20%20%20var%20circle_14b1ff05863b4a5f86e618260a5eb344%20%3D%20L.circle%28%0A%20%20%20%20%20%20%20%20%20%20%20%20%20%20%20%20%5B34.632834161782775%2C%20-120.61074553068327%5D%2C%0A%20%20%20%20%20%20%20%20%20%20%20%20%20%20%20%20%7B%22bubblingMouseEvents%22%3A%20true%2C%20%22color%22%3A%20%22%23d35400%22%2C%20%22dashArray%22%3A%20null%2C%20%22dashOffset%22%3A%20null%2C%20%22fill%22%3A%20true%2C%20%22fillColor%22%3A%20%22%23d35400%22%2C%20%22fillOpacity%22%3A%200.2%2C%20%22fillRule%22%3A%20%22evenodd%22%2C%20%22lineCap%22%3A%20%22round%22%2C%20%22lineJoin%22%3A%20%22round%22%2C%20%22opacity%22%3A%201.0%2C%20%22radius%22%3A%201000%2C%20%22stroke%22%3A%20true%2C%20%22weight%22%3A%203%7D%0A%20%20%20%20%20%20%20%20%20%20%20%20%29.addTo%28map_c1a9c167272e42998ca0690d833f7617%29%3B%0A%20%20%20%20%20%20%20%20%0A%20%20%20%20%0A%20%20%20%20%20%20%20%20var%20popup_f3ce823a84084b9488253dc5fcf86884%20%3D%20L.popup%28%7B%22maxWidth%22%3A%20%22100%25%22%7D%29%3B%0A%0A%20%20%20%20%20%20%20%20%0A%20%20%20%20%20%20%20%20%20%20%20%20var%20html_1a54b9d9869f4f75994dd8f34585bcf2%20%3D%20%24%28%60%3Cdiv%20id%3D%22html_1a54b9d9869f4f75994dd8f34585bcf2%22%20style%3D%22width%3A%20100.0%25%3B%20height%3A%20100.0%25%3B%22%3EVAFB%20SLC-4E%3C/div%3E%60%29%5B0%5D%3B%0A%20%20%20%20%20%20%20%20%20%20%20%20popup_f3ce823a84084b9488253dc5fcf86884.setContent%28html_1a54b9d9869f4f75994dd8f34585bcf2%29%3B%0A%20%20%20%20%20%20%20%20%0A%0A%20%20%20%20%20%20%20%20circle_14b1ff05863b4a5f86e618260a5eb344.bindPopup%28popup_f3ce823a84084b9488253dc5fcf86884%29%0A%20%20%20%20%20%20%20%20%3B%0A%0A%20%20%20%20%20%20%20%20%0A%20%20%20%20%0A%20%20%20%20%0A%20%20%20%20%20%20%20%20%20%20%20%20var%20marker_1585f553f02b466388d44ecca7950d16%20%3D%20L.marker%28%0A%20%20%20%20%20%20%20%20%20%20%20%20%20%20%20%20%5B34.632834161782775%2C%20-120.61074553068327%5D%2C%0A%20%20%20%20%20%20%20%20%20%20%20%20%20%20%20%20%7B%7D%0A%20%20%20%20%20%20%20%20%20%20%20%20%29.addTo%28map_c1a9c167272e42998ca0690d833f7617%29%3B%0A%20%20%20%20%20%20%20%20%0A%20%20%20%20%0A%20%20%20%20%20%20%20%20%20%20%20%20var%20div_icon_ca57bf986f324dc89e8d9344702dacb2%20%3D%20L.divIcon%28%7B%22className%22%3A%20%22empty%22%2C%20%22html%22%3A%20%22%5Cu003cdiv%20style%3D%5C%22font-size%3A%2012%3B%20color%3A%23d35400%3B%5C%22%5Cu003e%5Cu003cb%5Cu003eVAFB%20SLC-4E%5Cu003c/b%5Cu003e%5Cu003c/div%5Cu003e%22%2C%20%22iconAnchor%22%3A%20%5B0%2C%200%5D%2C%20%22iconSize%22%3A%20%5B20%2C%2020%5D%7D%29%3B%0A%20%20%20%20%20%20%20%20%20%20%20%20marker_1585f553f02b466388d44ecca7950d16.setIcon%28div_icon_ca57bf986f324dc89e8d9344702dacb2%29%3B%0A%20%20%20%20%20%20%20%20%0A%3C/script%3E onload=\"this.contentDocument.open();this.contentDocument.write(    decodeURIComponent(this.getAttribute('data-html')));this.contentDocument.close();\" allowfullscreen webkitallowfullscreen mozallowfullscreen></iframe></div></div>"
      ],
      "text/plain": [
       "<folium.folium.Map at 0x7f94e79bf670>"
      ]
     },
     "execution_count": 28,
     "metadata": {},
     "output_type": "execute_result"
    }
   ],
   "source": [
    "# Initial the map\n",
    "site_map = folium.Map(location=nasa_coordinate, zoom_start=5)\n",
    "# For each launch site, add a Circle object based on its coordinate (Lat, Long) values. In addition, add Launch site name as a popup label\n",
    "for idx, launch_site in launch_sites_df.iterrows():\n",
    "    circle = folium.Circle([launch_site['Lat'], launch_site['Long']], radius=1000, color='#d35400', fill=True).add_child(folium.Popup(launch_site['Launch Site']))\n",
    "    marker = folium.map.Marker([launch_site['Lat'], launch_site['Long']], icon=DivIcon(icon_size=(20,20),icon_anchor=(0,0), html='<div style=\"font-size: 12; color:#d35400;\"><b>%s</b></div>' % launch_site['Launch Site'], ))\n",
    "    site_map.add_child(circle)\n",
    "    site_map.add_child(marker)\n",
    "site_map"
   ]
  },
  {
   "cell_type": "markdown",
   "metadata": {},
   "source": [
    "The generated map with marked launch sites should look similar to the following:\n"
   ]
  },
  {
   "cell_type": "markdown",
   "metadata": {},
   "source": [
    "<center>\n",
    "    <img src=\"https://cf-courses-data.s3.us.cloud-object-storage.appdomain.cloud/IBM-DS0321EN-SkillsNetwork/labs/module_3/images/launch_site_markers.png\" />\n",
    "</center>\n"
   ]
  },
  {
   "cell_type": "markdown",
   "metadata": {},
   "source": [
    "Now, you can explore the map by zoom-in/out the marked areas\n",
    ", and try to answer the following questions:\n",
    "\n",
    "*   Are all launch sites in proximity to the Equator line?\n",
    "*   Are all launch sites in very close proximity to the coast?\n",
    "\n",
    "Also please try to explain your findings.\n"
   ]
  },
  {
   "cell_type": "markdown",
   "metadata": {},
   "source": [
    "# Task 2: Mark the success/failed launches for each site on the map\n"
   ]
  },
  {
   "cell_type": "markdown",
   "metadata": {},
   "source": [
    "Next, let's try to enhance the map by adding the launch outcomes for each site, and see which sites have high success rates.\n",
    "Recall that data frame spacex_df has detailed launch records, and the `class` column indicates if this launch was successful or not\n"
   ]
  },
  {
   "cell_type": "code",
   "execution_count": 22,
   "metadata": {},
   "outputs": [
    {
     "data": {
      "text/html": [
       "<div>\n",
       "<style scoped>\n",
       "    .dataframe tbody tr th:only-of-type {\n",
       "        vertical-align: middle;\n",
       "    }\n",
       "\n",
       "    .dataframe tbody tr th {\n",
       "        vertical-align: top;\n",
       "    }\n",
       "\n",
       "    .dataframe thead th {\n",
       "        text-align: right;\n",
       "    }\n",
       "</style>\n",
       "<table border=\"1\" class=\"dataframe\">\n",
       "  <thead>\n",
       "    <tr style=\"text-align: right;\">\n",
       "      <th></th>\n",
       "      <th>Launch Site</th>\n",
       "      <th>Lat</th>\n",
       "      <th>Long</th>\n",
       "      <th>class</th>\n",
       "    </tr>\n",
       "  </thead>\n",
       "  <tbody>\n",
       "    <tr>\n",
       "      <th>46</th>\n",
       "      <td>KSC LC-39A</td>\n",
       "      <td>28.573255</td>\n",
       "      <td>-80.646895</td>\n",
       "      <td>1</td>\n",
       "    </tr>\n",
       "    <tr>\n",
       "      <th>47</th>\n",
       "      <td>KSC LC-39A</td>\n",
       "      <td>28.573255</td>\n",
       "      <td>-80.646895</td>\n",
       "      <td>1</td>\n",
       "    </tr>\n",
       "    <tr>\n",
       "      <th>48</th>\n",
       "      <td>KSC LC-39A</td>\n",
       "      <td>28.573255</td>\n",
       "      <td>-80.646895</td>\n",
       "      <td>1</td>\n",
       "    </tr>\n",
       "    <tr>\n",
       "      <th>49</th>\n",
       "      <td>CCAFS SLC-40</td>\n",
       "      <td>28.563197</td>\n",
       "      <td>-80.576820</td>\n",
       "      <td>1</td>\n",
       "    </tr>\n",
       "    <tr>\n",
       "      <th>50</th>\n",
       "      <td>CCAFS SLC-40</td>\n",
       "      <td>28.563197</td>\n",
       "      <td>-80.576820</td>\n",
       "      <td>1</td>\n",
       "    </tr>\n",
       "    <tr>\n",
       "      <th>51</th>\n",
       "      <td>CCAFS SLC-40</td>\n",
       "      <td>28.563197</td>\n",
       "      <td>-80.576820</td>\n",
       "      <td>0</td>\n",
       "    </tr>\n",
       "    <tr>\n",
       "      <th>52</th>\n",
       "      <td>CCAFS SLC-40</td>\n",
       "      <td>28.563197</td>\n",
       "      <td>-80.576820</td>\n",
       "      <td>0</td>\n",
       "    </tr>\n",
       "    <tr>\n",
       "      <th>53</th>\n",
       "      <td>CCAFS SLC-40</td>\n",
       "      <td>28.563197</td>\n",
       "      <td>-80.576820</td>\n",
       "      <td>0</td>\n",
       "    </tr>\n",
       "    <tr>\n",
       "      <th>54</th>\n",
       "      <td>CCAFS SLC-40</td>\n",
       "      <td>28.563197</td>\n",
       "      <td>-80.576820</td>\n",
       "      <td>1</td>\n",
       "    </tr>\n",
       "    <tr>\n",
       "      <th>55</th>\n",
       "      <td>CCAFS SLC-40</td>\n",
       "      <td>28.563197</td>\n",
       "      <td>-80.576820</td>\n",
       "      <td>0</td>\n",
       "    </tr>\n",
       "  </tbody>\n",
       "</table>\n",
       "</div>"
      ],
      "text/plain": [
       "     Launch Site        Lat       Long  class\n",
       "46    KSC LC-39A  28.573255 -80.646895      1\n",
       "47    KSC LC-39A  28.573255 -80.646895      1\n",
       "48    KSC LC-39A  28.573255 -80.646895      1\n",
       "49  CCAFS SLC-40  28.563197 -80.576820      1\n",
       "50  CCAFS SLC-40  28.563197 -80.576820      1\n",
       "51  CCAFS SLC-40  28.563197 -80.576820      0\n",
       "52  CCAFS SLC-40  28.563197 -80.576820      0\n",
       "53  CCAFS SLC-40  28.563197 -80.576820      0\n",
       "54  CCAFS SLC-40  28.563197 -80.576820      1\n",
       "55  CCAFS SLC-40  28.563197 -80.576820      0"
      ]
     },
     "execution_count": 22,
     "metadata": {},
     "output_type": "execute_result"
    }
   ],
   "source": [
    "spacex_df.tail(10)"
   ]
  },
  {
   "cell_type": "markdown",
   "metadata": {},
   "source": [
    "Next, let's create markers for all launch records.\n",
    "If a launch was successful `(class=1)`, then we use a green marker and if a launch was failed, we use a red marker `(class=0)`\n"
   ]
  },
  {
   "cell_type": "markdown",
   "metadata": {},
   "source": [
    "Note that a launch only happens in one of the four launch sites, which means many launch records will have the exact same coordinate. Marker clusters can be a good way to simplify a map containing many markers having the same coordinate.\n"
   ]
  },
  {
   "cell_type": "markdown",
   "metadata": {},
   "source": [
    "Let's first create a `MarkerCluster` object\n"
   ]
  },
  {
   "cell_type": "code",
   "execution_count": 24,
   "metadata": {
    "id": "wP9PVUZ7Jfjt",
    "outputId": "6a3b8164-940c-4b93-9f3d-c655c4a0c683",
    "papermill": {
     "duration": 0.904519,
     "end_time": "2020-09-19T06:27:38.357041",
     "exception": false,
     "start_time": "2020-09-19T06:27:37.452522",
     "status": "completed"
    },
    "tags": []
   },
   "outputs": [],
   "source": [
    "marker_cluster = MarkerCluster()"
   ]
  },
  {
   "cell_type": "markdown",
   "metadata": {},
   "source": [
    "*TODO:* Create a new column in `launch_sites` dataframe called `marker_color` to store the marker colors based on the `class` value\n"
   ]
  },
  {
   "cell_type": "code",
   "execution_count": 26,
   "metadata": {},
   "outputs": [
    {
     "data": {
      "text/html": [
       "<div>\n",
       "<style scoped>\n",
       "    .dataframe tbody tr th:only-of-type {\n",
       "        vertical-align: middle;\n",
       "    }\n",
       "\n",
       "    .dataframe tbody tr th {\n",
       "        vertical-align: top;\n",
       "    }\n",
       "\n",
       "    .dataframe thead th {\n",
       "        text-align: right;\n",
       "    }\n",
       "</style>\n",
       "<table border=\"1\" class=\"dataframe\">\n",
       "  <thead>\n",
       "    <tr style=\"text-align: right;\">\n",
       "      <th></th>\n",
       "      <th>Launch Site</th>\n",
       "      <th>Lat</th>\n",
       "      <th>Long</th>\n",
       "      <th>class</th>\n",
       "      <th>marker_color</th>\n",
       "    </tr>\n",
       "  </thead>\n",
       "  <tbody>\n",
       "    <tr>\n",
       "      <th>46</th>\n",
       "      <td>KSC LC-39A</td>\n",
       "      <td>28.573255</td>\n",
       "      <td>-80.646895</td>\n",
       "      <td>1</td>\n",
       "      <td>green</td>\n",
       "    </tr>\n",
       "    <tr>\n",
       "      <th>47</th>\n",
       "      <td>KSC LC-39A</td>\n",
       "      <td>28.573255</td>\n",
       "      <td>-80.646895</td>\n",
       "      <td>1</td>\n",
       "      <td>green</td>\n",
       "    </tr>\n",
       "    <tr>\n",
       "      <th>48</th>\n",
       "      <td>KSC LC-39A</td>\n",
       "      <td>28.573255</td>\n",
       "      <td>-80.646895</td>\n",
       "      <td>1</td>\n",
       "      <td>green</td>\n",
       "    </tr>\n",
       "    <tr>\n",
       "      <th>49</th>\n",
       "      <td>CCAFS SLC-40</td>\n",
       "      <td>28.563197</td>\n",
       "      <td>-80.576820</td>\n",
       "      <td>1</td>\n",
       "      <td>green</td>\n",
       "    </tr>\n",
       "    <tr>\n",
       "      <th>50</th>\n",
       "      <td>CCAFS SLC-40</td>\n",
       "      <td>28.563197</td>\n",
       "      <td>-80.576820</td>\n",
       "      <td>1</td>\n",
       "      <td>green</td>\n",
       "    </tr>\n",
       "    <tr>\n",
       "      <th>51</th>\n",
       "      <td>CCAFS SLC-40</td>\n",
       "      <td>28.563197</td>\n",
       "      <td>-80.576820</td>\n",
       "      <td>0</td>\n",
       "      <td>red</td>\n",
       "    </tr>\n",
       "    <tr>\n",
       "      <th>52</th>\n",
       "      <td>CCAFS SLC-40</td>\n",
       "      <td>28.563197</td>\n",
       "      <td>-80.576820</td>\n",
       "      <td>0</td>\n",
       "      <td>red</td>\n",
       "    </tr>\n",
       "    <tr>\n",
       "      <th>53</th>\n",
       "      <td>CCAFS SLC-40</td>\n",
       "      <td>28.563197</td>\n",
       "      <td>-80.576820</td>\n",
       "      <td>0</td>\n",
       "      <td>red</td>\n",
       "    </tr>\n",
       "    <tr>\n",
       "      <th>54</th>\n",
       "      <td>CCAFS SLC-40</td>\n",
       "      <td>28.563197</td>\n",
       "      <td>-80.576820</td>\n",
       "      <td>1</td>\n",
       "      <td>green</td>\n",
       "    </tr>\n",
       "    <tr>\n",
       "      <th>55</th>\n",
       "      <td>CCAFS SLC-40</td>\n",
       "      <td>28.563197</td>\n",
       "      <td>-80.576820</td>\n",
       "      <td>0</td>\n",
       "      <td>red</td>\n",
       "    </tr>\n",
       "  </tbody>\n",
       "</table>\n",
       "</div>"
      ],
      "text/plain": [
       "     Launch Site        Lat       Long  class marker_color\n",
       "46    KSC LC-39A  28.573255 -80.646895      1        green\n",
       "47    KSC LC-39A  28.573255 -80.646895      1        green\n",
       "48    KSC LC-39A  28.573255 -80.646895      1        green\n",
       "49  CCAFS SLC-40  28.563197 -80.576820      1        green\n",
       "50  CCAFS SLC-40  28.563197 -80.576820      1        green\n",
       "51  CCAFS SLC-40  28.563197 -80.576820      0          red\n",
       "52  CCAFS SLC-40  28.563197 -80.576820      0          red\n",
       "53  CCAFS SLC-40  28.563197 -80.576820      0          red\n",
       "54  CCAFS SLC-40  28.563197 -80.576820      1        green\n",
       "55  CCAFS SLC-40  28.563197 -80.576820      0          red"
      ]
     },
     "execution_count": 26,
     "metadata": {},
     "output_type": "execute_result"
    }
   ],
   "source": [
    "# Function to assign color to launch outcome\n",
    "def assign_marker_color(launch_outcome):\n",
    "    ''' Apply a function to check the value of `class` column:\n",
    "        If class=1, marker_color value will be green\n",
    "        If class=0, marker_color value will be red'''\n",
    "    if launch_outcome == 1:\n",
    "        return 'green'\n",
    "    else:\n",
    "        return 'red'\n",
    "    \n",
    "spacex_df['marker_color'] = spacex_df['class'].apply(assign_marker_color)\n",
    "spacex_df.tail(10)"
   ]
  },
  {
   "cell_type": "markdown",
   "metadata": {},
   "source": [
    "*TODO:* For each launch result in `spacex_df` data frame, add a `folium.Marker` to `marker_cluster`\n"
   ]
  },
  {
   "cell_type": "code",
   "execution_count": 30,
   "metadata": {},
   "outputs": [
    {
     "data": {
      "text/html": [
       "<div style=\"width:100%;\"><div style=\"position:relative;width:100%;height:0;padding-bottom:60%;\"><span style=\"color:#565656\">Make this Notebook Trusted to load map: File -> Trust Notebook</span><iframe src=\"about:blank\" style=\"position:absolute;width:100%;height:100%;left:0;top:0;border:none !important;\" data-html=%3C%21DOCTYPE%20html%3E%0A%3Chead%3E%20%20%20%20%0A%20%20%20%20%3Cmeta%20http-equiv%3D%22content-type%22%20content%3D%22text/html%3B%20charset%3DUTF-8%22%20/%3E%0A%20%20%20%20%0A%20%20%20%20%20%20%20%20%3Cscript%3E%0A%20%20%20%20%20%20%20%20%20%20%20%20L_NO_TOUCH%20%3D%20false%3B%0A%20%20%20%20%20%20%20%20%20%20%20%20L_DISABLE_3D%20%3D%20false%3B%0A%20%20%20%20%20%20%20%20%3C/script%3E%0A%20%20%20%20%0A%20%20%20%20%3Cstyle%3Ehtml%2C%20body%20%7Bwidth%3A%20100%25%3Bheight%3A%20100%25%3Bmargin%3A%200%3Bpadding%3A%200%3B%7D%3C/style%3E%0A%20%20%20%20%3Cstyle%3E%23map%20%7Bposition%3Aabsolute%3Btop%3A0%3Bbottom%3A0%3Bright%3A0%3Bleft%3A0%3B%7D%3C/style%3E%0A%20%20%20%20%3Cscript%20src%3D%22https%3A//cdn.jsdelivr.net/npm/leaflet%401.6.0/dist/leaflet.js%22%3E%3C/script%3E%0A%20%20%20%20%3Cscript%20src%3D%22https%3A//code.jquery.com/jquery-1.12.4.min.js%22%3E%3C/script%3E%0A%20%20%20%20%3Cscript%20src%3D%22https%3A//maxcdn.bootstrapcdn.com/bootstrap/3.2.0/js/bootstrap.min.js%22%3E%3C/script%3E%0A%20%20%20%20%3Cscript%20src%3D%22https%3A//cdnjs.cloudflare.com/ajax/libs/Leaflet.awesome-markers/2.0.2/leaflet.awesome-markers.js%22%3E%3C/script%3E%0A%20%20%20%20%3Clink%20rel%3D%22stylesheet%22%20href%3D%22https%3A//cdn.jsdelivr.net/npm/leaflet%401.6.0/dist/leaflet.css%22/%3E%0A%20%20%20%20%3Clink%20rel%3D%22stylesheet%22%20href%3D%22https%3A//maxcdn.bootstrapcdn.com/bootstrap/3.2.0/css/bootstrap.min.css%22/%3E%0A%20%20%20%20%3Clink%20rel%3D%22stylesheet%22%20href%3D%22https%3A//maxcdn.bootstrapcdn.com/bootstrap/3.2.0/css/bootstrap-theme.min.css%22/%3E%0A%20%20%20%20%3Clink%20rel%3D%22stylesheet%22%20href%3D%22https%3A//maxcdn.bootstrapcdn.com/font-awesome/4.6.3/css/font-awesome.min.css%22/%3E%0A%20%20%20%20%3Clink%20rel%3D%22stylesheet%22%20href%3D%22https%3A//cdnjs.cloudflare.com/ajax/libs/Leaflet.awesome-markers/2.0.2/leaflet.awesome-markers.css%22/%3E%0A%20%20%20%20%3Clink%20rel%3D%22stylesheet%22%20href%3D%22https%3A//cdn.jsdelivr.net/gh/python-visualization/folium/folium/templates/leaflet.awesome.rotate.min.css%22/%3E%0A%20%20%20%20%0A%20%20%20%20%20%20%20%20%20%20%20%20%3Cmeta%20name%3D%22viewport%22%20content%3D%22width%3Ddevice-width%2C%0A%20%20%20%20%20%20%20%20%20%20%20%20%20%20%20%20initial-scale%3D1.0%2C%20maximum-scale%3D1.0%2C%20user-scalable%3Dno%22%20/%3E%0A%20%20%20%20%20%20%20%20%20%20%20%20%3Cstyle%3E%0A%20%20%20%20%20%20%20%20%20%20%20%20%20%20%20%20%23map_c1a9c167272e42998ca0690d833f7617%20%7B%0A%20%20%20%20%20%20%20%20%20%20%20%20%20%20%20%20%20%20%20%20position%3A%20relative%3B%0A%20%20%20%20%20%20%20%20%20%20%20%20%20%20%20%20%20%20%20%20width%3A%20100.0%25%3B%0A%20%20%20%20%20%20%20%20%20%20%20%20%20%20%20%20%20%20%20%20height%3A%20100.0%25%3B%0A%20%20%20%20%20%20%20%20%20%20%20%20%20%20%20%20%20%20%20%20left%3A%200.0%25%3B%0A%20%20%20%20%20%20%20%20%20%20%20%20%20%20%20%20%20%20%20%20top%3A%200.0%25%3B%0A%20%20%20%20%20%20%20%20%20%20%20%20%20%20%20%20%7D%0A%20%20%20%20%20%20%20%20%20%20%20%20%3C/style%3E%0A%20%20%20%20%20%20%20%20%0A%20%20%20%20%3Cscript%20src%3D%22https%3A//cdnjs.cloudflare.com/ajax/libs/leaflet.markercluster/1.1.0/leaflet.markercluster.js%22%3E%3C/script%3E%0A%20%20%20%20%3Clink%20rel%3D%22stylesheet%22%20href%3D%22https%3A//cdnjs.cloudflare.com/ajax/libs/leaflet.markercluster/1.1.0/MarkerCluster.css%22/%3E%0A%20%20%20%20%3Clink%20rel%3D%22stylesheet%22%20href%3D%22https%3A//cdnjs.cloudflare.com/ajax/libs/leaflet.markercluster/1.1.0/MarkerCluster.Default.css%22/%3E%0A%3C/head%3E%0A%3Cbody%3E%20%20%20%20%0A%20%20%20%20%0A%20%20%20%20%20%20%20%20%20%20%20%20%3Cdiv%20class%3D%22folium-map%22%20id%3D%22map_c1a9c167272e42998ca0690d833f7617%22%20%3E%3C/div%3E%0A%20%20%20%20%20%20%20%20%0A%3C/body%3E%0A%3Cscript%3E%20%20%20%20%0A%20%20%20%20%0A%20%20%20%20%20%20%20%20%20%20%20%20var%20map_c1a9c167272e42998ca0690d833f7617%20%3D%20L.map%28%0A%20%20%20%20%20%20%20%20%20%20%20%20%20%20%20%20%22map_c1a9c167272e42998ca0690d833f7617%22%2C%0A%20%20%20%20%20%20%20%20%20%20%20%20%20%20%20%20%7B%0A%20%20%20%20%20%20%20%20%20%20%20%20%20%20%20%20%20%20%20%20center%3A%20%5B29.559684888503615%2C%20-95.0830971930759%5D%2C%0A%20%20%20%20%20%20%20%20%20%20%20%20%20%20%20%20%20%20%20%20crs%3A%20L.CRS.EPSG3857%2C%0A%20%20%20%20%20%20%20%20%20%20%20%20%20%20%20%20%20%20%20%20zoom%3A%205%2C%0A%20%20%20%20%20%20%20%20%20%20%20%20%20%20%20%20%20%20%20%20zoomControl%3A%20true%2C%0A%20%20%20%20%20%20%20%20%20%20%20%20%20%20%20%20%20%20%20%20preferCanvas%3A%20false%2C%0A%20%20%20%20%20%20%20%20%20%20%20%20%20%20%20%20%7D%0A%20%20%20%20%20%20%20%20%20%20%20%20%29%3B%0A%0A%20%20%20%20%20%20%20%20%20%20%20%20%0A%0A%20%20%20%20%20%20%20%20%0A%20%20%20%20%0A%20%20%20%20%20%20%20%20%20%20%20%20var%20tile_layer_35596bc185974000ac53cefd33422432%20%3D%20L.tileLayer%28%0A%20%20%20%20%20%20%20%20%20%20%20%20%20%20%20%20%22https%3A//%7Bs%7D.tile.openstreetmap.org/%7Bz%7D/%7Bx%7D/%7By%7D.png%22%2C%0A%20%20%20%20%20%20%20%20%20%20%20%20%20%20%20%20%7B%22attribution%22%3A%20%22Data%20by%20%5Cu0026copy%3B%20%5Cu003ca%20href%3D%5C%22http%3A//openstreetmap.org%5C%22%5Cu003eOpenStreetMap%5Cu003c/a%5Cu003e%2C%20under%20%5Cu003ca%20href%3D%5C%22http%3A//www.openstreetmap.org/copyright%5C%22%5Cu003eODbL%5Cu003c/a%5Cu003e.%22%2C%20%22detectRetina%22%3A%20false%2C%20%22maxNativeZoom%22%3A%2018%2C%20%22maxZoom%22%3A%2018%2C%20%22minZoom%22%3A%200%2C%20%22noWrap%22%3A%20false%2C%20%22opacity%22%3A%201%2C%20%22subdomains%22%3A%20%22abc%22%2C%20%22tms%22%3A%20false%7D%0A%20%20%20%20%20%20%20%20%20%20%20%20%29.addTo%28map_c1a9c167272e42998ca0690d833f7617%29%3B%0A%20%20%20%20%20%20%20%20%0A%20%20%20%20%0A%20%20%20%20%20%20%20%20%20%20%20%20var%20circle_2d98aac5fb584c4f934e7f455129eb04%20%3D%20L.circle%28%0A%20%20%20%20%20%20%20%20%20%20%20%20%20%20%20%20%5B28.56230196799018%2C%20-80.57735647504778%5D%2C%0A%20%20%20%20%20%20%20%20%20%20%20%20%20%20%20%20%7B%22bubblingMouseEvents%22%3A%20true%2C%20%22color%22%3A%20%22%23d35400%22%2C%20%22dashArray%22%3A%20null%2C%20%22dashOffset%22%3A%20null%2C%20%22fill%22%3A%20true%2C%20%22fillColor%22%3A%20%22%23d35400%22%2C%20%22fillOpacity%22%3A%200.2%2C%20%22fillRule%22%3A%20%22evenodd%22%2C%20%22lineCap%22%3A%20%22round%22%2C%20%22lineJoin%22%3A%20%22round%22%2C%20%22opacity%22%3A%201.0%2C%20%22radius%22%3A%201000%2C%20%22stroke%22%3A%20true%2C%20%22weight%22%3A%203%7D%0A%20%20%20%20%20%20%20%20%20%20%20%20%29.addTo%28map_c1a9c167272e42998ca0690d833f7617%29%3B%0A%20%20%20%20%20%20%20%20%0A%20%20%20%20%0A%20%20%20%20%20%20%20%20var%20popup_8b5badc08cc148f9800e681426cf6de2%20%3D%20L.popup%28%7B%22maxWidth%22%3A%20%22100%25%22%7D%29%3B%0A%0A%20%20%20%20%20%20%20%20%0A%20%20%20%20%20%20%20%20%20%20%20%20var%20html_09d7da080e804078a379abbf5bb59910%20%3D%20%24%28%60%3Cdiv%20id%3D%22html_09d7da080e804078a379abbf5bb59910%22%20style%3D%22width%3A%20100.0%25%3B%20height%3A%20100.0%25%3B%22%3ECCAFS%20LC-40%3C/div%3E%60%29%5B0%5D%3B%0A%20%20%20%20%20%20%20%20%20%20%20%20popup_8b5badc08cc148f9800e681426cf6de2.setContent%28html_09d7da080e804078a379abbf5bb59910%29%3B%0A%20%20%20%20%20%20%20%20%0A%0A%20%20%20%20%20%20%20%20circle_2d98aac5fb584c4f934e7f455129eb04.bindPopup%28popup_8b5badc08cc148f9800e681426cf6de2%29%0A%20%20%20%20%20%20%20%20%3B%0A%0A%20%20%20%20%20%20%20%20%0A%20%20%20%20%0A%20%20%20%20%0A%20%20%20%20%20%20%20%20%20%20%20%20var%20marker_9e1b042fc9174df59c9fa7b878918612%20%3D%20L.marker%28%0A%20%20%20%20%20%20%20%20%20%20%20%20%20%20%20%20%5B28.56230196799018%2C%20-80.57735647504778%5D%2C%0A%20%20%20%20%20%20%20%20%20%20%20%20%20%20%20%20%7B%7D%0A%20%20%20%20%20%20%20%20%20%20%20%20%29.addTo%28map_c1a9c167272e42998ca0690d833f7617%29%3B%0A%20%20%20%20%20%20%20%20%0A%20%20%20%20%0A%20%20%20%20%20%20%20%20%20%20%20%20var%20div_icon_4b2846ee9d7841ef959f8a46acf2c5e1%20%3D%20L.divIcon%28%7B%22className%22%3A%20%22empty%22%2C%20%22html%22%3A%20%22%5Cu003cdiv%20style%3D%5C%22font-size%3A%2012%3B%20color%3A%23d35400%3B%5C%22%5Cu003e%5Cu003cb%5Cu003eCCAFS%20LC-40%5Cu003c/b%5Cu003e%5Cu003c/div%5Cu003e%22%2C%20%22iconAnchor%22%3A%20%5B0%2C%200%5D%2C%20%22iconSize%22%3A%20%5B20%2C%2020%5D%7D%29%3B%0A%20%20%20%20%20%20%20%20%20%20%20%20marker_9e1b042fc9174df59c9fa7b878918612.setIcon%28div_icon_4b2846ee9d7841ef959f8a46acf2c5e1%29%3B%0A%20%20%20%20%20%20%20%20%0A%20%20%20%20%0A%20%20%20%20%20%20%20%20%20%20%20%20var%20circle_4cb9e519c44f4114bb5fb9eb5b4e3607%20%3D%20L.circle%28%0A%20%20%20%20%20%20%20%20%20%20%20%20%20%20%20%20%5B28.563197177407144%2C%20-80.57682003124195%5D%2C%0A%20%20%20%20%20%20%20%20%20%20%20%20%20%20%20%20%7B%22bubblingMouseEvents%22%3A%20true%2C%20%22color%22%3A%20%22%23d35400%22%2C%20%22dashArray%22%3A%20null%2C%20%22dashOffset%22%3A%20null%2C%20%22fill%22%3A%20true%2C%20%22fillColor%22%3A%20%22%23d35400%22%2C%20%22fillOpacity%22%3A%200.2%2C%20%22fillRule%22%3A%20%22evenodd%22%2C%20%22lineCap%22%3A%20%22round%22%2C%20%22lineJoin%22%3A%20%22round%22%2C%20%22opacity%22%3A%201.0%2C%20%22radius%22%3A%201000%2C%20%22stroke%22%3A%20true%2C%20%22weight%22%3A%203%7D%0A%20%20%20%20%20%20%20%20%20%20%20%20%29.addTo%28map_c1a9c167272e42998ca0690d833f7617%29%3B%0A%20%20%20%20%20%20%20%20%0A%20%20%20%20%0A%20%20%20%20%20%20%20%20var%20popup_0e572bedd7c34b1984b08b7ed1754d1c%20%3D%20L.popup%28%7B%22maxWidth%22%3A%20%22100%25%22%7D%29%3B%0A%0A%20%20%20%20%20%20%20%20%0A%20%20%20%20%20%20%20%20%20%20%20%20var%20html_99f100516521489788dbe371819c5105%20%3D%20%24%28%60%3Cdiv%20id%3D%22html_99f100516521489788dbe371819c5105%22%20style%3D%22width%3A%20100.0%25%3B%20height%3A%20100.0%25%3B%22%3ECCAFS%20SLC-40%3C/div%3E%60%29%5B0%5D%3B%0A%20%20%20%20%20%20%20%20%20%20%20%20popup_0e572bedd7c34b1984b08b7ed1754d1c.setContent%28html_99f100516521489788dbe371819c5105%29%3B%0A%20%20%20%20%20%20%20%20%0A%0A%20%20%20%20%20%20%20%20circle_4cb9e519c44f4114bb5fb9eb5b4e3607.bindPopup%28popup_0e572bedd7c34b1984b08b7ed1754d1c%29%0A%20%20%20%20%20%20%20%20%3B%0A%0A%20%20%20%20%20%20%20%20%0A%20%20%20%20%0A%20%20%20%20%0A%20%20%20%20%20%20%20%20%20%20%20%20var%20marker_5f6417a2cd064547b4c67436948b8a2c%20%3D%20L.marker%28%0A%20%20%20%20%20%20%20%20%20%20%20%20%20%20%20%20%5B28.563197177407144%2C%20-80.57682003124195%5D%2C%0A%20%20%20%20%20%20%20%20%20%20%20%20%20%20%20%20%7B%7D%0A%20%20%20%20%20%20%20%20%20%20%20%20%29.addTo%28map_c1a9c167272e42998ca0690d833f7617%29%3B%0A%20%20%20%20%20%20%20%20%0A%20%20%20%20%0A%20%20%20%20%20%20%20%20%20%20%20%20var%20div_icon_31bd4f95d65245dc94e6f370b651506b%20%3D%20L.divIcon%28%7B%22className%22%3A%20%22empty%22%2C%20%22html%22%3A%20%22%5Cu003cdiv%20style%3D%5C%22font-size%3A%2012%3B%20color%3A%23d35400%3B%5C%22%5Cu003e%5Cu003cb%5Cu003eCCAFS%20SLC-40%5Cu003c/b%5Cu003e%5Cu003c/div%5Cu003e%22%2C%20%22iconAnchor%22%3A%20%5B0%2C%200%5D%2C%20%22iconSize%22%3A%20%5B20%2C%2020%5D%7D%29%3B%0A%20%20%20%20%20%20%20%20%20%20%20%20marker_5f6417a2cd064547b4c67436948b8a2c.setIcon%28div_icon_31bd4f95d65245dc94e6f370b651506b%29%3B%0A%20%20%20%20%20%20%20%20%0A%20%20%20%20%0A%20%20%20%20%20%20%20%20%20%20%20%20var%20circle_b670475dc98143d7bb5404c56ad3c8c2%20%3D%20L.circle%28%0A%20%20%20%20%20%20%20%20%20%20%20%20%20%20%20%20%5B28.57325457037815%2C%20-80.64689528960382%5D%2C%0A%20%20%20%20%20%20%20%20%20%20%20%20%20%20%20%20%7B%22bubblingMouseEvents%22%3A%20true%2C%20%22color%22%3A%20%22%23d35400%22%2C%20%22dashArray%22%3A%20null%2C%20%22dashOffset%22%3A%20null%2C%20%22fill%22%3A%20true%2C%20%22fillColor%22%3A%20%22%23d35400%22%2C%20%22fillOpacity%22%3A%200.2%2C%20%22fillRule%22%3A%20%22evenodd%22%2C%20%22lineCap%22%3A%20%22round%22%2C%20%22lineJoin%22%3A%20%22round%22%2C%20%22opacity%22%3A%201.0%2C%20%22radius%22%3A%201000%2C%20%22stroke%22%3A%20true%2C%20%22weight%22%3A%203%7D%0A%20%20%20%20%20%20%20%20%20%20%20%20%29.addTo%28map_c1a9c167272e42998ca0690d833f7617%29%3B%0A%20%20%20%20%20%20%20%20%0A%20%20%20%20%0A%20%20%20%20%20%20%20%20var%20popup_d36f68091e5342c18081d779d7fc24f5%20%3D%20L.popup%28%7B%22maxWidth%22%3A%20%22100%25%22%7D%29%3B%0A%0A%20%20%20%20%20%20%20%20%0A%20%20%20%20%20%20%20%20%20%20%20%20var%20html_d4f96e5add7146d98e5ba72997114ffb%20%3D%20%24%28%60%3Cdiv%20id%3D%22html_d4f96e5add7146d98e5ba72997114ffb%22%20style%3D%22width%3A%20100.0%25%3B%20height%3A%20100.0%25%3B%22%3EKSC%20LC-39A%3C/div%3E%60%29%5B0%5D%3B%0A%20%20%20%20%20%20%20%20%20%20%20%20popup_d36f68091e5342c18081d779d7fc24f5.setContent%28html_d4f96e5add7146d98e5ba72997114ffb%29%3B%0A%20%20%20%20%20%20%20%20%0A%0A%20%20%20%20%20%20%20%20circle_b670475dc98143d7bb5404c56ad3c8c2.bindPopup%28popup_d36f68091e5342c18081d779d7fc24f5%29%0A%20%20%20%20%20%20%20%20%3B%0A%0A%20%20%20%20%20%20%20%20%0A%20%20%20%20%0A%20%20%20%20%0A%20%20%20%20%20%20%20%20%20%20%20%20var%20marker_38886ce887b24375b199f6744dbe54d0%20%3D%20L.marker%28%0A%20%20%20%20%20%20%20%20%20%20%20%20%20%20%20%20%5B28.57325457037815%2C%20-80.64689528960382%5D%2C%0A%20%20%20%20%20%20%20%20%20%20%20%20%20%20%20%20%7B%7D%0A%20%20%20%20%20%20%20%20%20%20%20%20%29.addTo%28map_c1a9c167272e42998ca0690d833f7617%29%3B%0A%20%20%20%20%20%20%20%20%0A%20%20%20%20%0A%20%20%20%20%20%20%20%20%20%20%20%20var%20div_icon_3dc958ec029e4f8eb68e2d2a9a78633f%20%3D%20L.divIcon%28%7B%22className%22%3A%20%22empty%22%2C%20%22html%22%3A%20%22%5Cu003cdiv%20style%3D%5C%22font-size%3A%2012%3B%20color%3A%23d35400%3B%5C%22%5Cu003e%5Cu003cb%5Cu003eKSC%20LC-39A%5Cu003c/b%5Cu003e%5Cu003c/div%5Cu003e%22%2C%20%22iconAnchor%22%3A%20%5B0%2C%200%5D%2C%20%22iconSize%22%3A%20%5B20%2C%2020%5D%7D%29%3B%0A%20%20%20%20%20%20%20%20%20%20%20%20marker_38886ce887b24375b199f6744dbe54d0.setIcon%28div_icon_3dc958ec029e4f8eb68e2d2a9a78633f%29%3B%0A%20%20%20%20%20%20%20%20%0A%20%20%20%20%0A%20%20%20%20%20%20%20%20%20%20%20%20var%20circle_14b1ff05863b4a5f86e618260a5eb344%20%3D%20L.circle%28%0A%20%20%20%20%20%20%20%20%20%20%20%20%20%20%20%20%5B34.632834161782775%2C%20-120.61074553068327%5D%2C%0A%20%20%20%20%20%20%20%20%20%20%20%20%20%20%20%20%7B%22bubblingMouseEvents%22%3A%20true%2C%20%22color%22%3A%20%22%23d35400%22%2C%20%22dashArray%22%3A%20null%2C%20%22dashOffset%22%3A%20null%2C%20%22fill%22%3A%20true%2C%20%22fillColor%22%3A%20%22%23d35400%22%2C%20%22fillOpacity%22%3A%200.2%2C%20%22fillRule%22%3A%20%22evenodd%22%2C%20%22lineCap%22%3A%20%22round%22%2C%20%22lineJoin%22%3A%20%22round%22%2C%20%22opacity%22%3A%201.0%2C%20%22radius%22%3A%201000%2C%20%22stroke%22%3A%20true%2C%20%22weight%22%3A%203%7D%0A%20%20%20%20%20%20%20%20%20%20%20%20%29.addTo%28map_c1a9c167272e42998ca0690d833f7617%29%3B%0A%20%20%20%20%20%20%20%20%0A%20%20%20%20%0A%20%20%20%20%20%20%20%20var%20popup_f3ce823a84084b9488253dc5fcf86884%20%3D%20L.popup%28%7B%22maxWidth%22%3A%20%22100%25%22%7D%29%3B%0A%0A%20%20%20%20%20%20%20%20%0A%20%20%20%20%20%20%20%20%20%20%20%20var%20html_1a54b9d9869f4f75994dd8f34585bcf2%20%3D%20%24%28%60%3Cdiv%20id%3D%22html_1a54b9d9869f4f75994dd8f34585bcf2%22%20style%3D%22width%3A%20100.0%25%3B%20height%3A%20100.0%25%3B%22%3EVAFB%20SLC-4E%3C/div%3E%60%29%5B0%5D%3B%0A%20%20%20%20%20%20%20%20%20%20%20%20popup_f3ce823a84084b9488253dc5fcf86884.setContent%28html_1a54b9d9869f4f75994dd8f34585bcf2%29%3B%0A%20%20%20%20%20%20%20%20%0A%0A%20%20%20%20%20%20%20%20circle_14b1ff05863b4a5f86e618260a5eb344.bindPopup%28popup_f3ce823a84084b9488253dc5fcf86884%29%0A%20%20%20%20%20%20%20%20%3B%0A%0A%20%20%20%20%20%20%20%20%0A%20%20%20%20%0A%20%20%20%20%0A%20%20%20%20%20%20%20%20%20%20%20%20var%20marker_1585f553f02b466388d44ecca7950d16%20%3D%20L.marker%28%0A%20%20%20%20%20%20%20%20%20%20%20%20%20%20%20%20%5B34.632834161782775%2C%20-120.61074553068327%5D%2C%0A%20%20%20%20%20%20%20%20%20%20%20%20%20%20%20%20%7B%7D%0A%20%20%20%20%20%20%20%20%20%20%20%20%29.addTo%28map_c1a9c167272e42998ca0690d833f7617%29%3B%0A%20%20%20%20%20%20%20%20%0A%20%20%20%20%0A%20%20%20%20%20%20%20%20%20%20%20%20var%20div_icon_ca57bf986f324dc89e8d9344702dacb2%20%3D%20L.divIcon%28%7B%22className%22%3A%20%22empty%22%2C%20%22html%22%3A%20%22%5Cu003cdiv%20style%3D%5C%22font-size%3A%2012%3B%20color%3A%23d35400%3B%5C%22%5Cu003e%5Cu003cb%5Cu003eVAFB%20SLC-4E%5Cu003c/b%5Cu003e%5Cu003c/div%5Cu003e%22%2C%20%22iconAnchor%22%3A%20%5B0%2C%200%5D%2C%20%22iconSize%22%3A%20%5B20%2C%2020%5D%7D%29%3B%0A%20%20%20%20%20%20%20%20%20%20%20%20marker_1585f553f02b466388d44ecca7950d16.setIcon%28div_icon_ca57bf986f324dc89e8d9344702dacb2%29%3B%0A%20%20%20%20%20%20%20%20%0A%20%20%20%20%0A%20%20%20%20%20%20%20%20%20%20%20%20var%20marker_cluster_285429c0d835448a9ed6c91238ae3e5f%20%3D%20L.markerClusterGroup%28%0A%20%20%20%20%20%20%20%20%20%20%20%20%20%20%20%20%7B%7D%0A%20%20%20%20%20%20%20%20%20%20%20%20%29%3B%0A%20%20%20%20%20%20%20%20%20%20%20%20map_c1a9c167272e42998ca0690d833f7617.addLayer%28marker_cluster_285429c0d835448a9ed6c91238ae3e5f%29%3B%0A%20%20%20%20%20%20%20%20%0A%20%20%20%20%0A%20%20%20%20%20%20%20%20%20%20%20%20var%20marker_417c0b9ed2394c70ab5db2e1669a5b4d%20%3D%20L.marker%28%0A%20%20%20%20%20%20%20%20%20%20%20%20%20%20%20%20%5B28.56230196799018%2C%20-80.57735647504778%5D%2C%0A%20%20%20%20%20%20%20%20%20%20%20%20%20%20%20%20%7B%7D%0A%20%20%20%20%20%20%20%20%20%20%20%20%29.addTo%28marker_cluster_285429c0d835448a9ed6c91238ae3e5f%29%3B%0A%20%20%20%20%20%20%20%20%0A%20%20%20%20%0A%20%20%20%20%20%20%20%20%20%20%20%20var%20div_icon_666b1dc167b5497ea470e00f80045c3d%20%3D%20L.divIcon%28%7B%22className%22%3A%20%22empty%22%2C%20%22html%22%3A%20%22%5Cu003cdiv%20style%3D%5C%22font-size%3A%2012%3B%20color%3Ared%3B%5C%22%5Cu003e%5Cu003cb%5Cu003eCCAFS%20LC-40%5Cu003c/b%5Cu003e%5Cu003c/div%5Cu003e%22%2C%20%22iconAnchor%22%3A%20%5B0%2C%200%5D%2C%20%22iconSize%22%3A%20%5B20%2C%2020%5D%7D%29%3B%0A%20%20%20%20%20%20%20%20%20%20%20%20marker_417c0b9ed2394c70ab5db2e1669a5b4d.setIcon%28div_icon_666b1dc167b5497ea470e00f80045c3d%29%3B%0A%20%20%20%20%20%20%20%20%0A%20%20%20%20%0A%20%20%20%20%20%20%20%20%20%20%20%20var%20marker_f857f16afe94448fab7c5f5405746d3a%20%3D%20L.marker%28%0A%20%20%20%20%20%20%20%20%20%20%20%20%20%20%20%20%5B28.56230196799018%2C%20-80.57735647504778%5D%2C%0A%20%20%20%20%20%20%20%20%20%20%20%20%20%20%20%20%7B%7D%0A%20%20%20%20%20%20%20%20%20%20%20%20%29.addTo%28marker_cluster_285429c0d835448a9ed6c91238ae3e5f%29%3B%0A%20%20%20%20%20%20%20%20%0A%20%20%20%20%0A%20%20%20%20%20%20%20%20%20%20%20%20var%20div_icon_615151ab62b041a8be645851280a640f%20%3D%20L.divIcon%28%7B%22className%22%3A%20%22empty%22%2C%20%22html%22%3A%20%22%5Cu003cdiv%20style%3D%5C%22font-size%3A%2012%3B%20color%3Ared%3B%5C%22%5Cu003e%5Cu003cb%5Cu003eCCAFS%20LC-40%5Cu003c/b%5Cu003e%5Cu003c/div%5Cu003e%22%2C%20%22iconAnchor%22%3A%20%5B0%2C%200%5D%2C%20%22iconSize%22%3A%20%5B20%2C%2020%5D%7D%29%3B%0A%20%20%20%20%20%20%20%20%20%20%20%20marker_f857f16afe94448fab7c5f5405746d3a.setIcon%28div_icon_615151ab62b041a8be645851280a640f%29%3B%0A%20%20%20%20%20%20%20%20%0A%20%20%20%20%0A%20%20%20%20%20%20%20%20%20%20%20%20var%20marker_58258a43dbba4b8aad44acdb430ab189%20%3D%20L.marker%28%0A%20%20%20%20%20%20%20%20%20%20%20%20%20%20%20%20%5B28.56230196799018%2C%20-80.57735647504778%5D%2C%0A%20%20%20%20%20%20%20%20%20%20%20%20%20%20%20%20%7B%7D%0A%20%20%20%20%20%20%20%20%20%20%20%20%29.addTo%28marker_cluster_285429c0d835448a9ed6c91238ae3e5f%29%3B%0A%20%20%20%20%20%20%20%20%0A%20%20%20%20%0A%20%20%20%20%20%20%20%20%20%20%20%20var%20div_icon_129caf58588944f393ca061b1f43fc24%20%3D%20L.divIcon%28%7B%22className%22%3A%20%22empty%22%2C%20%22html%22%3A%20%22%5Cu003cdiv%20style%3D%5C%22font-size%3A%2012%3B%20color%3Ared%3B%5C%22%5Cu003e%5Cu003cb%5Cu003eCCAFS%20LC-40%5Cu003c/b%5Cu003e%5Cu003c/div%5Cu003e%22%2C%20%22iconAnchor%22%3A%20%5B0%2C%200%5D%2C%20%22iconSize%22%3A%20%5B20%2C%2020%5D%7D%29%3B%0A%20%20%20%20%20%20%20%20%20%20%20%20marker_58258a43dbba4b8aad44acdb430ab189.setIcon%28div_icon_129caf58588944f393ca061b1f43fc24%29%3B%0A%20%20%20%20%20%20%20%20%0A%20%20%20%20%0A%20%20%20%20%20%20%20%20%20%20%20%20var%20marker_8bef56ee582b4587bac24651f0ce38d6%20%3D%20L.marker%28%0A%20%20%20%20%20%20%20%20%20%20%20%20%20%20%20%20%5B28.56230196799018%2C%20-80.57735647504778%5D%2C%0A%20%20%20%20%20%20%20%20%20%20%20%20%20%20%20%20%7B%7D%0A%20%20%20%20%20%20%20%20%20%20%20%20%29.addTo%28marker_cluster_285429c0d835448a9ed6c91238ae3e5f%29%3B%0A%20%20%20%20%20%20%20%20%0A%20%20%20%20%0A%20%20%20%20%20%20%20%20%20%20%20%20var%20div_icon_0b93ddff5c764f19913180b88d088660%20%3D%20L.divIcon%28%7B%22className%22%3A%20%22empty%22%2C%20%22html%22%3A%20%22%5Cu003cdiv%20style%3D%5C%22font-size%3A%2012%3B%20color%3Ared%3B%5C%22%5Cu003e%5Cu003cb%5Cu003eCCAFS%20LC-40%5Cu003c/b%5Cu003e%5Cu003c/div%5Cu003e%22%2C%20%22iconAnchor%22%3A%20%5B0%2C%200%5D%2C%20%22iconSize%22%3A%20%5B20%2C%2020%5D%7D%29%3B%0A%20%20%20%20%20%20%20%20%20%20%20%20marker_8bef56ee582b4587bac24651f0ce38d6.setIcon%28div_icon_0b93ddff5c764f19913180b88d088660%29%3B%0A%20%20%20%20%20%20%20%20%0A%20%20%20%20%0A%20%20%20%20%20%20%20%20%20%20%20%20var%20marker_552dc27cf4c24dfa9ce0c15b08e3169a%20%3D%20L.marker%28%0A%20%20%20%20%20%20%20%20%20%20%20%20%20%20%20%20%5B28.56230196799018%2C%20-80.57735647504778%5D%2C%0A%20%20%20%20%20%20%20%20%20%20%20%20%20%20%20%20%7B%7D%0A%20%20%20%20%20%20%20%20%20%20%20%20%29.addTo%28marker_cluster_285429c0d835448a9ed6c91238ae3e5f%29%3B%0A%20%20%20%20%20%20%20%20%0A%20%20%20%20%0A%20%20%20%20%20%20%20%20%20%20%20%20var%20div_icon_c14c45a5c2104a5c819ca6c30d4c128c%20%3D%20L.divIcon%28%7B%22className%22%3A%20%22empty%22%2C%20%22html%22%3A%20%22%5Cu003cdiv%20style%3D%5C%22font-size%3A%2012%3B%20color%3Ared%3B%5C%22%5Cu003e%5Cu003cb%5Cu003eCCAFS%20LC-40%5Cu003c/b%5Cu003e%5Cu003c/div%5Cu003e%22%2C%20%22iconAnchor%22%3A%20%5B0%2C%200%5D%2C%20%22iconSize%22%3A%20%5B20%2C%2020%5D%7D%29%3B%0A%20%20%20%20%20%20%20%20%20%20%20%20marker_552dc27cf4c24dfa9ce0c15b08e3169a.setIcon%28div_icon_c14c45a5c2104a5c819ca6c30d4c128c%29%3B%0A%20%20%20%20%20%20%20%20%0A%20%20%20%20%0A%20%20%20%20%20%20%20%20%20%20%20%20var%20marker_1a0907ca3180491fac1c237d48983a63%20%3D%20L.marker%28%0A%20%20%20%20%20%20%20%20%20%20%20%20%20%20%20%20%5B28.56230196799018%2C%20-80.57735647504778%5D%2C%0A%20%20%20%20%20%20%20%20%20%20%20%20%20%20%20%20%7B%7D%0A%20%20%20%20%20%20%20%20%20%20%20%20%29.addTo%28marker_cluster_285429c0d835448a9ed6c91238ae3e5f%29%3B%0A%20%20%20%20%20%20%20%20%0A%20%20%20%20%0A%20%20%20%20%20%20%20%20%20%20%20%20var%20div_icon_c025f5ce97584a348cf93611d04130b2%20%3D%20L.divIcon%28%7B%22className%22%3A%20%22empty%22%2C%20%22html%22%3A%20%22%5Cu003cdiv%20style%3D%5C%22font-size%3A%2012%3B%20color%3Ared%3B%5C%22%5Cu003e%5Cu003cb%5Cu003eCCAFS%20LC-40%5Cu003c/b%5Cu003e%5Cu003c/div%5Cu003e%22%2C%20%22iconAnchor%22%3A%20%5B0%2C%200%5D%2C%20%22iconSize%22%3A%20%5B20%2C%2020%5D%7D%29%3B%0A%20%20%20%20%20%20%20%20%20%20%20%20marker_1a0907ca3180491fac1c237d48983a63.setIcon%28div_icon_c025f5ce97584a348cf93611d04130b2%29%3B%0A%20%20%20%20%20%20%20%20%0A%20%20%20%20%0A%20%20%20%20%20%20%20%20%20%20%20%20var%20marker_bb968845ce9e420e93aa878e816cf57f%20%3D%20L.marker%28%0A%20%20%20%20%20%20%20%20%20%20%20%20%20%20%20%20%5B28.56230196799018%2C%20-80.57735647504778%5D%2C%0A%20%20%20%20%20%20%20%20%20%20%20%20%20%20%20%20%7B%7D%0A%20%20%20%20%20%20%20%20%20%20%20%20%29.addTo%28marker_cluster_285429c0d835448a9ed6c91238ae3e5f%29%3B%0A%20%20%20%20%20%20%20%20%0A%20%20%20%20%0A%20%20%20%20%20%20%20%20%20%20%20%20var%20div_icon_1eebfe1850784cae8672dc44b00d6795%20%3D%20L.divIcon%28%7B%22className%22%3A%20%22empty%22%2C%20%22html%22%3A%20%22%5Cu003cdiv%20style%3D%5C%22font-size%3A%2012%3B%20color%3Ared%3B%5C%22%5Cu003e%5Cu003cb%5Cu003eCCAFS%20LC-40%5Cu003c/b%5Cu003e%5Cu003c/div%5Cu003e%22%2C%20%22iconAnchor%22%3A%20%5B0%2C%200%5D%2C%20%22iconSize%22%3A%20%5B20%2C%2020%5D%7D%29%3B%0A%20%20%20%20%20%20%20%20%20%20%20%20marker_bb968845ce9e420e93aa878e816cf57f.setIcon%28div_icon_1eebfe1850784cae8672dc44b00d6795%29%3B%0A%20%20%20%20%20%20%20%20%0A%20%20%20%20%0A%20%20%20%20%20%20%20%20%20%20%20%20var%20marker_55fcd868076c4875a2554302b7ce64f9%20%3D%20L.marker%28%0A%20%20%20%20%20%20%20%20%20%20%20%20%20%20%20%20%5B28.56230196799018%2C%20-80.57735647504778%5D%2C%0A%20%20%20%20%20%20%20%20%20%20%20%20%20%20%20%20%7B%7D%0A%20%20%20%20%20%20%20%20%20%20%20%20%29.addTo%28marker_cluster_285429c0d835448a9ed6c91238ae3e5f%29%3B%0A%20%20%20%20%20%20%20%20%0A%20%20%20%20%0A%20%20%20%20%20%20%20%20%20%20%20%20var%20div_icon_69ca7fe401fd49c49300bce495728cd1%20%3D%20L.divIcon%28%7B%22className%22%3A%20%22empty%22%2C%20%22html%22%3A%20%22%5Cu003cdiv%20style%3D%5C%22font-size%3A%2012%3B%20color%3Ared%3B%5C%22%5Cu003e%5Cu003cb%5Cu003eCCAFS%20LC-40%5Cu003c/b%5Cu003e%5Cu003c/div%5Cu003e%22%2C%20%22iconAnchor%22%3A%20%5B0%2C%200%5D%2C%20%22iconSize%22%3A%20%5B20%2C%2020%5D%7D%29%3B%0A%20%20%20%20%20%20%20%20%20%20%20%20marker_55fcd868076c4875a2554302b7ce64f9.setIcon%28div_icon_69ca7fe401fd49c49300bce495728cd1%29%3B%0A%20%20%20%20%20%20%20%20%0A%20%20%20%20%0A%20%20%20%20%20%20%20%20%20%20%20%20var%20marker_982ce8e0cc3849c1b051dde8f8a6978b%20%3D%20L.marker%28%0A%20%20%20%20%20%20%20%20%20%20%20%20%20%20%20%20%5B28.56230196799018%2C%20-80.57735647504778%5D%2C%0A%20%20%20%20%20%20%20%20%20%20%20%20%20%20%20%20%7B%7D%0A%20%20%20%20%20%20%20%20%20%20%20%20%29.addTo%28marker_cluster_285429c0d835448a9ed6c91238ae3e5f%29%3B%0A%20%20%20%20%20%20%20%20%0A%20%20%20%20%0A%20%20%20%20%20%20%20%20%20%20%20%20var%20div_icon_ee39141e38c04794a1ae319791af8c07%20%3D%20L.divIcon%28%7B%22className%22%3A%20%22empty%22%2C%20%22html%22%3A%20%22%5Cu003cdiv%20style%3D%5C%22font-size%3A%2012%3B%20color%3Ared%3B%5C%22%5Cu003e%5Cu003cb%5Cu003eCCAFS%20LC-40%5Cu003c/b%5Cu003e%5Cu003c/div%5Cu003e%22%2C%20%22iconAnchor%22%3A%20%5B0%2C%200%5D%2C%20%22iconSize%22%3A%20%5B20%2C%2020%5D%7D%29%3B%0A%20%20%20%20%20%20%20%20%20%20%20%20marker_982ce8e0cc3849c1b051dde8f8a6978b.setIcon%28div_icon_ee39141e38c04794a1ae319791af8c07%29%3B%0A%20%20%20%20%20%20%20%20%0A%20%20%20%20%0A%20%20%20%20%20%20%20%20%20%20%20%20var%20marker_146182e462034d54b91970f8f7fdfd9a%20%3D%20L.marker%28%0A%20%20%20%20%20%20%20%20%20%20%20%20%20%20%20%20%5B28.56230196799018%2C%20-80.57735647504778%5D%2C%0A%20%20%20%20%20%20%20%20%20%20%20%20%20%20%20%20%7B%7D%0A%20%20%20%20%20%20%20%20%20%20%20%20%29.addTo%28marker_cluster_285429c0d835448a9ed6c91238ae3e5f%29%3B%0A%20%20%20%20%20%20%20%20%0A%20%20%20%20%0A%20%20%20%20%20%20%20%20%20%20%20%20var%20div_icon_a9ce3f6a9b204de7bca7d8b8cd1196b5%20%3D%20L.divIcon%28%7B%22className%22%3A%20%22empty%22%2C%20%22html%22%3A%20%22%5Cu003cdiv%20style%3D%5C%22font-size%3A%2012%3B%20color%3Ared%3B%5C%22%5Cu003e%5Cu003cb%5Cu003eCCAFS%20LC-40%5Cu003c/b%5Cu003e%5Cu003c/div%5Cu003e%22%2C%20%22iconAnchor%22%3A%20%5B0%2C%200%5D%2C%20%22iconSize%22%3A%20%5B20%2C%2020%5D%7D%29%3B%0A%20%20%20%20%20%20%20%20%20%20%20%20marker_146182e462034d54b91970f8f7fdfd9a.setIcon%28div_icon_a9ce3f6a9b204de7bca7d8b8cd1196b5%29%3B%0A%20%20%20%20%20%20%20%20%0A%20%20%20%20%0A%20%20%20%20%20%20%20%20%20%20%20%20var%20marker_be73583fd67b4e4dab0cda6032d1c396%20%3D%20L.marker%28%0A%20%20%20%20%20%20%20%20%20%20%20%20%20%20%20%20%5B28.56230196799018%2C%20-80.57735647504778%5D%2C%0A%20%20%20%20%20%20%20%20%20%20%20%20%20%20%20%20%7B%7D%0A%20%20%20%20%20%20%20%20%20%20%20%20%29.addTo%28marker_cluster_285429c0d835448a9ed6c91238ae3e5f%29%3B%0A%20%20%20%20%20%20%20%20%0A%20%20%20%20%0A%20%20%20%20%20%20%20%20%20%20%20%20var%20div_icon_cae18b22281a40589d332279e8df153b%20%3D%20L.divIcon%28%7B%22className%22%3A%20%22empty%22%2C%20%22html%22%3A%20%22%5Cu003cdiv%20style%3D%5C%22font-size%3A%2012%3B%20color%3Ared%3B%5C%22%5Cu003e%5Cu003cb%5Cu003eCCAFS%20LC-40%5Cu003c/b%5Cu003e%5Cu003c/div%5Cu003e%22%2C%20%22iconAnchor%22%3A%20%5B0%2C%200%5D%2C%20%22iconSize%22%3A%20%5B20%2C%2020%5D%7D%29%3B%0A%20%20%20%20%20%20%20%20%20%20%20%20marker_be73583fd67b4e4dab0cda6032d1c396.setIcon%28div_icon_cae18b22281a40589d332279e8df153b%29%3B%0A%20%20%20%20%20%20%20%20%0A%20%20%20%20%0A%20%20%20%20%20%20%20%20%20%20%20%20var%20marker_b783fb2701124e0b8784d93c225bdb7f%20%3D%20L.marker%28%0A%20%20%20%20%20%20%20%20%20%20%20%20%20%20%20%20%5B28.56230196799018%2C%20-80.57735647504778%5D%2C%0A%20%20%20%20%20%20%20%20%20%20%20%20%20%20%20%20%7B%7D%0A%20%20%20%20%20%20%20%20%20%20%20%20%29.addTo%28marker_cluster_285429c0d835448a9ed6c91238ae3e5f%29%3B%0A%20%20%20%20%20%20%20%20%0A%20%20%20%20%0A%20%20%20%20%20%20%20%20%20%20%20%20var%20div_icon_5bef2284513344a48afe6f061e8888dc%20%3D%20L.divIcon%28%7B%22className%22%3A%20%22empty%22%2C%20%22html%22%3A%20%22%5Cu003cdiv%20style%3D%5C%22font-size%3A%2012%3B%20color%3Ared%3B%5C%22%5Cu003e%5Cu003cb%5Cu003eCCAFS%20LC-40%5Cu003c/b%5Cu003e%5Cu003c/div%5Cu003e%22%2C%20%22iconAnchor%22%3A%20%5B0%2C%200%5D%2C%20%22iconSize%22%3A%20%5B20%2C%2020%5D%7D%29%3B%0A%20%20%20%20%20%20%20%20%20%20%20%20marker_b783fb2701124e0b8784d93c225bdb7f.setIcon%28div_icon_5bef2284513344a48afe6f061e8888dc%29%3B%0A%20%20%20%20%20%20%20%20%0A%20%20%20%20%0A%20%20%20%20%20%20%20%20%20%20%20%20var%20marker_085566db0da6418f9636d77501a5fc78%20%3D%20L.marker%28%0A%20%20%20%20%20%20%20%20%20%20%20%20%20%20%20%20%5B28.56230196799018%2C%20-80.57735647504778%5D%2C%0A%20%20%20%20%20%20%20%20%20%20%20%20%20%20%20%20%7B%7D%0A%20%20%20%20%20%20%20%20%20%20%20%20%29.addTo%28marker_cluster_285429c0d835448a9ed6c91238ae3e5f%29%3B%0A%20%20%20%20%20%20%20%20%0A%20%20%20%20%0A%20%20%20%20%20%20%20%20%20%20%20%20var%20div_icon_5f782576aaa74b058361a257e80fede9%20%3D%20L.divIcon%28%7B%22className%22%3A%20%22empty%22%2C%20%22html%22%3A%20%22%5Cu003cdiv%20style%3D%5C%22font-size%3A%2012%3B%20color%3Ared%3B%5C%22%5Cu003e%5Cu003cb%5Cu003eCCAFS%20LC-40%5Cu003c/b%5Cu003e%5Cu003c/div%5Cu003e%22%2C%20%22iconAnchor%22%3A%20%5B0%2C%200%5D%2C%20%22iconSize%22%3A%20%5B20%2C%2020%5D%7D%29%3B%0A%20%20%20%20%20%20%20%20%20%20%20%20marker_085566db0da6418f9636d77501a5fc78.setIcon%28div_icon_5f782576aaa74b058361a257e80fede9%29%3B%0A%20%20%20%20%20%20%20%20%0A%20%20%20%20%0A%20%20%20%20%20%20%20%20%20%20%20%20var%20marker_241d1743f3654ee8b91332fc389fa7b4%20%3D%20L.marker%28%0A%20%20%20%20%20%20%20%20%20%20%20%20%20%20%20%20%5B28.56230196799018%2C%20-80.57735647504778%5D%2C%0A%20%20%20%20%20%20%20%20%20%20%20%20%20%20%20%20%7B%7D%0A%20%20%20%20%20%20%20%20%20%20%20%20%29.addTo%28marker_cluster_285429c0d835448a9ed6c91238ae3e5f%29%3B%0A%20%20%20%20%20%20%20%20%0A%20%20%20%20%0A%20%20%20%20%20%20%20%20%20%20%20%20var%20div_icon_b5f4c329e59b470bbcb881bbca9f3497%20%3D%20L.divIcon%28%7B%22className%22%3A%20%22empty%22%2C%20%22html%22%3A%20%22%5Cu003cdiv%20style%3D%5C%22font-size%3A%2012%3B%20color%3Ared%3B%5C%22%5Cu003e%5Cu003cb%5Cu003eCCAFS%20LC-40%5Cu003c/b%5Cu003e%5Cu003c/div%5Cu003e%22%2C%20%22iconAnchor%22%3A%20%5B0%2C%200%5D%2C%20%22iconSize%22%3A%20%5B20%2C%2020%5D%7D%29%3B%0A%20%20%20%20%20%20%20%20%20%20%20%20marker_241d1743f3654ee8b91332fc389fa7b4.setIcon%28div_icon_b5f4c329e59b470bbcb881bbca9f3497%29%3B%0A%20%20%20%20%20%20%20%20%0A%20%20%20%20%0A%20%20%20%20%20%20%20%20%20%20%20%20var%20marker_7862858c975b4ceaa9ade7fb2c8f2ae0%20%3D%20L.marker%28%0A%20%20%20%20%20%20%20%20%20%20%20%20%20%20%20%20%5B28.56230196799018%2C%20-80.57735647504778%5D%2C%0A%20%20%20%20%20%20%20%20%20%20%20%20%20%20%20%20%7B%7D%0A%20%20%20%20%20%20%20%20%20%20%20%20%29.addTo%28marker_cluster_285429c0d835448a9ed6c91238ae3e5f%29%3B%0A%20%20%20%20%20%20%20%20%0A%20%20%20%20%0A%20%20%20%20%20%20%20%20%20%20%20%20var%20div_icon_b6161e61c27742cf8890346582b25ade%20%3D%20L.divIcon%28%7B%22className%22%3A%20%22empty%22%2C%20%22html%22%3A%20%22%5Cu003cdiv%20style%3D%5C%22font-size%3A%2012%3B%20color%3Ared%3B%5C%22%5Cu003e%5Cu003cb%5Cu003eCCAFS%20LC-40%5Cu003c/b%5Cu003e%5Cu003c/div%5Cu003e%22%2C%20%22iconAnchor%22%3A%20%5B0%2C%200%5D%2C%20%22iconSize%22%3A%20%5B20%2C%2020%5D%7D%29%3B%0A%20%20%20%20%20%20%20%20%20%20%20%20marker_7862858c975b4ceaa9ade7fb2c8f2ae0.setIcon%28div_icon_b6161e61c27742cf8890346582b25ade%29%3B%0A%20%20%20%20%20%20%20%20%0A%20%20%20%20%0A%20%20%20%20%20%20%20%20%20%20%20%20var%20marker_572bd6c850ab469eb1607d0334b03ee8%20%3D%20L.marker%28%0A%20%20%20%20%20%20%20%20%20%20%20%20%20%20%20%20%5B28.56230196799018%2C%20-80.57735647504778%5D%2C%0A%20%20%20%20%20%20%20%20%20%20%20%20%20%20%20%20%7B%7D%0A%20%20%20%20%20%20%20%20%20%20%20%20%29.addTo%28marker_cluster_285429c0d835448a9ed6c91238ae3e5f%29%3B%0A%20%20%20%20%20%20%20%20%0A%20%20%20%20%0A%20%20%20%20%20%20%20%20%20%20%20%20var%20div_icon_fb87f3820d8d40d5b25dce430a66d8eb%20%3D%20L.divIcon%28%7B%22className%22%3A%20%22empty%22%2C%20%22html%22%3A%20%22%5Cu003cdiv%20style%3D%5C%22font-size%3A%2012%3B%20color%3Ared%3B%5C%22%5Cu003e%5Cu003cb%5Cu003eCCAFS%20LC-40%5Cu003c/b%5Cu003e%5Cu003c/div%5Cu003e%22%2C%20%22iconAnchor%22%3A%20%5B0%2C%200%5D%2C%20%22iconSize%22%3A%20%5B20%2C%2020%5D%7D%29%3B%0A%20%20%20%20%20%20%20%20%20%20%20%20marker_572bd6c850ab469eb1607d0334b03ee8.setIcon%28div_icon_fb87f3820d8d40d5b25dce430a66d8eb%29%3B%0A%20%20%20%20%20%20%20%20%0A%20%20%20%20%0A%20%20%20%20%20%20%20%20%20%20%20%20var%20marker_5852819b17de4254aa47f1c1111a6560%20%3D%20L.marker%28%0A%20%20%20%20%20%20%20%20%20%20%20%20%20%20%20%20%5B28.56230196799018%2C%20-80.57735647504778%5D%2C%0A%20%20%20%20%20%20%20%20%20%20%20%20%20%20%20%20%7B%7D%0A%20%20%20%20%20%20%20%20%20%20%20%20%29.addTo%28marker_cluster_285429c0d835448a9ed6c91238ae3e5f%29%3B%0A%20%20%20%20%20%20%20%20%0A%20%20%20%20%0A%20%20%20%20%20%20%20%20%20%20%20%20var%20div_icon_57887c48e02542f99c35030f8c156022%20%3D%20L.divIcon%28%7B%22className%22%3A%20%22empty%22%2C%20%22html%22%3A%20%22%5Cu003cdiv%20style%3D%5C%22font-size%3A%2012%3B%20color%3Ared%3B%5C%22%5Cu003e%5Cu003cb%5Cu003eCCAFS%20LC-40%5Cu003c/b%5Cu003e%5Cu003c/div%5Cu003e%22%2C%20%22iconAnchor%22%3A%20%5B0%2C%200%5D%2C%20%22iconSize%22%3A%20%5B20%2C%2020%5D%7D%29%3B%0A%20%20%20%20%20%20%20%20%20%20%20%20marker_5852819b17de4254aa47f1c1111a6560.setIcon%28div_icon_57887c48e02542f99c35030f8c156022%29%3B%0A%20%20%20%20%20%20%20%20%0A%20%20%20%20%0A%20%20%20%20%20%20%20%20%20%20%20%20var%20marker_cada106ae8c24d438dd2f4bb162e2902%20%3D%20L.marker%28%0A%20%20%20%20%20%20%20%20%20%20%20%20%20%20%20%20%5B28.56230196799018%2C%20-80.57735647504778%5D%2C%0A%20%20%20%20%20%20%20%20%20%20%20%20%20%20%20%20%7B%7D%0A%20%20%20%20%20%20%20%20%20%20%20%20%29.addTo%28marker_cluster_285429c0d835448a9ed6c91238ae3e5f%29%3B%0A%20%20%20%20%20%20%20%20%0A%20%20%20%20%0A%20%20%20%20%20%20%20%20%20%20%20%20var%20div_icon_49b4c49a928a4d86a0ed2e1576ce7be4%20%3D%20L.divIcon%28%7B%22className%22%3A%20%22empty%22%2C%20%22html%22%3A%20%22%5Cu003cdiv%20style%3D%5C%22font-size%3A%2012%3B%20color%3Agreen%3B%5C%22%5Cu003e%5Cu003cb%5Cu003eCCAFS%20LC-40%5Cu003c/b%5Cu003e%5Cu003c/div%5Cu003e%22%2C%20%22iconAnchor%22%3A%20%5B0%2C%200%5D%2C%20%22iconSize%22%3A%20%5B20%2C%2020%5D%7D%29%3B%0A%20%20%20%20%20%20%20%20%20%20%20%20marker_cada106ae8c24d438dd2f4bb162e2902.setIcon%28div_icon_49b4c49a928a4d86a0ed2e1576ce7be4%29%3B%0A%20%20%20%20%20%20%20%20%0A%20%20%20%20%0A%20%20%20%20%20%20%20%20%20%20%20%20var%20marker_683915bad33441de8ade83103c8c17a0%20%3D%20L.marker%28%0A%20%20%20%20%20%20%20%20%20%20%20%20%20%20%20%20%5B28.56230196799018%2C%20-80.57735647504778%5D%2C%0A%20%20%20%20%20%20%20%20%20%20%20%20%20%20%20%20%7B%7D%0A%20%20%20%20%20%20%20%20%20%20%20%20%29.addTo%28marker_cluster_285429c0d835448a9ed6c91238ae3e5f%29%3B%0A%20%20%20%20%20%20%20%20%0A%20%20%20%20%0A%20%20%20%20%20%20%20%20%20%20%20%20var%20div_icon_07ccf3029cea4fd1a34db0e8db862289%20%3D%20L.divIcon%28%7B%22className%22%3A%20%22empty%22%2C%20%22html%22%3A%20%22%5Cu003cdiv%20style%3D%5C%22font-size%3A%2012%3B%20color%3Agreen%3B%5C%22%5Cu003e%5Cu003cb%5Cu003eCCAFS%20LC-40%5Cu003c/b%5Cu003e%5Cu003c/div%5Cu003e%22%2C%20%22iconAnchor%22%3A%20%5B0%2C%200%5D%2C%20%22iconSize%22%3A%20%5B20%2C%2020%5D%7D%29%3B%0A%20%20%20%20%20%20%20%20%20%20%20%20marker_683915bad33441de8ade83103c8c17a0.setIcon%28div_icon_07ccf3029cea4fd1a34db0e8db862289%29%3B%0A%20%20%20%20%20%20%20%20%0A%20%20%20%20%0A%20%20%20%20%20%20%20%20%20%20%20%20var%20marker_e512de96eafa46609a33d812b885b550%20%3D%20L.marker%28%0A%20%20%20%20%20%20%20%20%20%20%20%20%20%20%20%20%5B28.56230196799018%2C%20-80.57735647504778%5D%2C%0A%20%20%20%20%20%20%20%20%20%20%20%20%20%20%20%20%7B%7D%0A%20%20%20%20%20%20%20%20%20%20%20%20%29.addTo%28marker_cluster_285429c0d835448a9ed6c91238ae3e5f%29%3B%0A%20%20%20%20%20%20%20%20%0A%20%20%20%20%0A%20%20%20%20%20%20%20%20%20%20%20%20var%20div_icon_2847e95d98b64817b7639275dc56e5d8%20%3D%20L.divIcon%28%7B%22className%22%3A%20%22empty%22%2C%20%22html%22%3A%20%22%5Cu003cdiv%20style%3D%5C%22font-size%3A%2012%3B%20color%3Ared%3B%5C%22%5Cu003e%5Cu003cb%5Cu003eCCAFS%20LC-40%5Cu003c/b%5Cu003e%5Cu003c/div%5Cu003e%22%2C%20%22iconAnchor%22%3A%20%5B0%2C%200%5D%2C%20%22iconSize%22%3A%20%5B20%2C%2020%5D%7D%29%3B%0A%20%20%20%20%20%20%20%20%20%20%20%20marker_e512de96eafa46609a33d812b885b550.setIcon%28div_icon_2847e95d98b64817b7639275dc56e5d8%29%3B%0A%20%20%20%20%20%20%20%20%0A%20%20%20%20%0A%20%20%20%20%20%20%20%20%20%20%20%20var%20marker_49d760468415437e8b21ed73ac216541%20%3D%20L.marker%28%0A%20%20%20%20%20%20%20%20%20%20%20%20%20%20%20%20%5B28.56230196799018%2C%20-80.57735647504778%5D%2C%0A%20%20%20%20%20%20%20%20%20%20%20%20%20%20%20%20%7B%7D%0A%20%20%20%20%20%20%20%20%20%20%20%20%29.addTo%28marker_cluster_285429c0d835448a9ed6c91238ae3e5f%29%3B%0A%20%20%20%20%20%20%20%20%0A%20%20%20%20%0A%20%20%20%20%20%20%20%20%20%20%20%20var%20div_icon_08419d74af614503b36586a28f6bd92a%20%3D%20L.divIcon%28%7B%22className%22%3A%20%22empty%22%2C%20%22html%22%3A%20%22%5Cu003cdiv%20style%3D%5C%22font-size%3A%2012%3B%20color%3Agreen%3B%5C%22%5Cu003e%5Cu003cb%5Cu003eCCAFS%20LC-40%5Cu003c/b%5Cu003e%5Cu003c/div%5Cu003e%22%2C%20%22iconAnchor%22%3A%20%5B0%2C%200%5D%2C%20%22iconSize%22%3A%20%5B20%2C%2020%5D%7D%29%3B%0A%20%20%20%20%20%20%20%20%20%20%20%20marker_49d760468415437e8b21ed73ac216541.setIcon%28div_icon_08419d74af614503b36586a28f6bd92a%29%3B%0A%20%20%20%20%20%20%20%20%0A%20%20%20%20%0A%20%20%20%20%20%20%20%20%20%20%20%20var%20marker_c1021654970d4d6b903e700eb1eb791c%20%3D%20L.marker%28%0A%20%20%20%20%20%20%20%20%20%20%20%20%20%20%20%20%5B28.56230196799018%2C%20-80.57735647504778%5D%2C%0A%20%20%20%20%20%20%20%20%20%20%20%20%20%20%20%20%7B%7D%0A%20%20%20%20%20%20%20%20%20%20%20%20%29.addTo%28marker_cluster_285429c0d835448a9ed6c91238ae3e5f%29%3B%0A%20%20%20%20%20%20%20%20%0A%20%20%20%20%0A%20%20%20%20%20%20%20%20%20%20%20%20var%20div_icon_c2f5d60726b545a58b976a6c4ac36d3a%20%3D%20L.divIcon%28%7B%22className%22%3A%20%22empty%22%2C%20%22html%22%3A%20%22%5Cu003cdiv%20style%3D%5C%22font-size%3A%2012%3B%20color%3Agreen%3B%5C%22%5Cu003e%5Cu003cb%5Cu003eCCAFS%20LC-40%5Cu003c/b%5Cu003e%5Cu003c/div%5Cu003e%22%2C%20%22iconAnchor%22%3A%20%5B0%2C%200%5D%2C%20%22iconSize%22%3A%20%5B20%2C%2020%5D%7D%29%3B%0A%20%20%20%20%20%20%20%20%20%20%20%20marker_c1021654970d4d6b903e700eb1eb791c.setIcon%28div_icon_c2f5d60726b545a58b976a6c4ac36d3a%29%3B%0A%20%20%20%20%20%20%20%20%0A%20%20%20%20%0A%20%20%20%20%20%20%20%20%20%20%20%20var%20marker_a60f8978e8b949deb5fc3fcb29fc33ed%20%3D%20L.marker%28%0A%20%20%20%20%20%20%20%20%20%20%20%20%20%20%20%20%5B28.56230196799018%2C%20-80.57735647504778%5D%2C%0A%20%20%20%20%20%20%20%20%20%20%20%20%20%20%20%20%7B%7D%0A%20%20%20%20%20%20%20%20%20%20%20%20%29.addTo%28marker_cluster_285429c0d835448a9ed6c91238ae3e5f%29%3B%0A%20%20%20%20%20%20%20%20%0A%20%20%20%20%0A%20%20%20%20%20%20%20%20%20%20%20%20var%20div_icon_86ae0208111e4b778244878e66bfb970%20%3D%20L.divIcon%28%7B%22className%22%3A%20%22empty%22%2C%20%22html%22%3A%20%22%5Cu003cdiv%20style%3D%5C%22font-size%3A%2012%3B%20color%3Agreen%3B%5C%22%5Cu003e%5Cu003cb%5Cu003eCCAFS%20LC-40%5Cu003c/b%5Cu003e%5Cu003c/div%5Cu003e%22%2C%20%22iconAnchor%22%3A%20%5B0%2C%200%5D%2C%20%22iconSize%22%3A%20%5B20%2C%2020%5D%7D%29%3B%0A%20%20%20%20%20%20%20%20%20%20%20%20marker_a60f8978e8b949deb5fc3fcb29fc33ed.setIcon%28div_icon_86ae0208111e4b778244878e66bfb970%29%3B%0A%20%20%20%20%20%20%20%20%0A%20%20%20%20%0A%20%20%20%20%20%20%20%20%20%20%20%20var%20marker_25e8223edc8b4b21acdd7ef8c8742062%20%3D%20L.marker%28%0A%20%20%20%20%20%20%20%20%20%20%20%20%20%20%20%20%5B28.56230196799018%2C%20-80.57735647504778%5D%2C%0A%20%20%20%20%20%20%20%20%20%20%20%20%20%20%20%20%7B%7D%0A%20%20%20%20%20%20%20%20%20%20%20%20%29.addTo%28marker_cluster_285429c0d835448a9ed6c91238ae3e5f%29%3B%0A%20%20%20%20%20%20%20%20%0A%20%20%20%20%0A%20%20%20%20%20%20%20%20%20%20%20%20var%20div_icon_35f02ccf28c147ce8e7cc9e4d75ff79c%20%3D%20L.divIcon%28%7B%22className%22%3A%20%22empty%22%2C%20%22html%22%3A%20%22%5Cu003cdiv%20style%3D%5C%22font-size%3A%2012%3B%20color%3Ared%3B%5C%22%5Cu003e%5Cu003cb%5Cu003eCCAFS%20LC-40%5Cu003c/b%5Cu003e%5Cu003c/div%5Cu003e%22%2C%20%22iconAnchor%22%3A%20%5B0%2C%200%5D%2C%20%22iconSize%22%3A%20%5B20%2C%2020%5D%7D%29%3B%0A%20%20%20%20%20%20%20%20%20%20%20%20marker_25e8223edc8b4b21acdd7ef8c8742062.setIcon%28div_icon_35f02ccf28c147ce8e7cc9e4d75ff79c%29%3B%0A%20%20%20%20%20%20%20%20%0A%20%20%20%20%0A%20%20%20%20%20%20%20%20%20%20%20%20var%20marker_7fb5f57f5f444863b97ba9c611c455f9%20%3D%20L.marker%28%0A%20%20%20%20%20%20%20%20%20%20%20%20%20%20%20%20%5B28.56230196799018%2C%20-80.57735647504778%5D%2C%0A%20%20%20%20%20%20%20%20%20%20%20%20%20%20%20%20%7B%7D%0A%20%20%20%20%20%20%20%20%20%20%20%20%29.addTo%28marker_cluster_285429c0d835448a9ed6c91238ae3e5f%29%3B%0A%20%20%20%20%20%20%20%20%0A%20%20%20%20%0A%20%20%20%20%20%20%20%20%20%20%20%20var%20div_icon_15d141daf74b445cbc8f150b2f119047%20%3D%20L.divIcon%28%7B%22className%22%3A%20%22empty%22%2C%20%22html%22%3A%20%22%5Cu003cdiv%20style%3D%5C%22font-size%3A%2012%3B%20color%3Agreen%3B%5C%22%5Cu003e%5Cu003cb%5Cu003eCCAFS%20LC-40%5Cu003c/b%5Cu003e%5Cu003c/div%5Cu003e%22%2C%20%22iconAnchor%22%3A%20%5B0%2C%200%5D%2C%20%22iconSize%22%3A%20%5B20%2C%2020%5D%7D%29%3B%0A%20%20%20%20%20%20%20%20%20%20%20%20marker_7fb5f57f5f444863b97ba9c611c455f9.setIcon%28div_icon_15d141daf74b445cbc8f150b2f119047%29%3B%0A%20%20%20%20%20%20%20%20%0A%20%20%20%20%0A%20%20%20%20%20%20%20%20%20%20%20%20var%20marker_dfd2ff3f6e724f58881b7d14fda15e2e%20%3D%20L.marker%28%0A%20%20%20%20%20%20%20%20%20%20%20%20%20%20%20%20%5B28.56230196799018%2C%20-80.57735647504778%5D%2C%0A%20%20%20%20%20%20%20%20%20%20%20%20%20%20%20%20%7B%7D%0A%20%20%20%20%20%20%20%20%20%20%20%20%29.addTo%28marker_cluster_285429c0d835448a9ed6c91238ae3e5f%29%3B%0A%20%20%20%20%20%20%20%20%0A%20%20%20%20%0A%20%20%20%20%20%20%20%20%20%20%20%20var%20div_icon_623e7e9ceee644d39b6294ce2707ef51%20%3D%20L.divIcon%28%7B%22className%22%3A%20%22empty%22%2C%20%22html%22%3A%20%22%5Cu003cdiv%20style%3D%5C%22font-size%3A%2012%3B%20color%3Agreen%3B%5C%22%5Cu003e%5Cu003cb%5Cu003eCCAFS%20LC-40%5Cu003c/b%5Cu003e%5Cu003c/div%5Cu003e%22%2C%20%22iconAnchor%22%3A%20%5B0%2C%200%5D%2C%20%22iconSize%22%3A%20%5B20%2C%2020%5D%7D%29%3B%0A%20%20%20%20%20%20%20%20%20%20%20%20marker_dfd2ff3f6e724f58881b7d14fda15e2e.setIcon%28div_icon_623e7e9ceee644d39b6294ce2707ef51%29%3B%0A%20%20%20%20%20%20%20%20%0A%20%20%20%20%0A%20%20%20%20%20%20%20%20%20%20%20%20var%20marker_7588e0f1577c4ad6b1eac76933ca28d7%20%3D%20L.marker%28%0A%20%20%20%20%20%20%20%20%20%20%20%20%20%20%20%20%5B34.632834161782775%2C%20-120.61074553068327%5D%2C%0A%20%20%20%20%20%20%20%20%20%20%20%20%20%20%20%20%7B%7D%0A%20%20%20%20%20%20%20%20%20%20%20%20%29.addTo%28marker_cluster_285429c0d835448a9ed6c91238ae3e5f%29%3B%0A%20%20%20%20%20%20%20%20%0A%20%20%20%20%0A%20%20%20%20%20%20%20%20%20%20%20%20var%20div_icon_eced18989dcf4e19ac0443955c79bb53%20%3D%20L.divIcon%28%7B%22className%22%3A%20%22empty%22%2C%20%22html%22%3A%20%22%5Cu003cdiv%20style%3D%5C%22font-size%3A%2012%3B%20color%3Ared%3B%5C%22%5Cu003e%5Cu003cb%5Cu003eVAFB%20SLC-4E%5Cu003c/b%5Cu003e%5Cu003c/div%5Cu003e%22%2C%20%22iconAnchor%22%3A%20%5B0%2C%200%5D%2C%20%22iconSize%22%3A%20%5B20%2C%2020%5D%7D%29%3B%0A%20%20%20%20%20%20%20%20%20%20%20%20marker_7588e0f1577c4ad6b1eac76933ca28d7.setIcon%28div_icon_eced18989dcf4e19ac0443955c79bb53%29%3B%0A%20%20%20%20%20%20%20%20%0A%20%20%20%20%0A%20%20%20%20%20%20%20%20%20%20%20%20var%20marker_1768bd9d8552461d9dd2e0fa19b859fe%20%3D%20L.marker%28%0A%20%20%20%20%20%20%20%20%20%20%20%20%20%20%20%20%5B34.632834161782775%2C%20-120.61074553068327%5D%2C%0A%20%20%20%20%20%20%20%20%20%20%20%20%20%20%20%20%7B%7D%0A%20%20%20%20%20%20%20%20%20%20%20%20%29.addTo%28marker_cluster_285429c0d835448a9ed6c91238ae3e5f%29%3B%0A%20%20%20%20%20%20%20%20%0A%20%20%20%20%0A%20%20%20%20%20%20%20%20%20%20%20%20var%20div_icon_244cde2149734666a308078d9dc6f823%20%3D%20L.divIcon%28%7B%22className%22%3A%20%22empty%22%2C%20%22html%22%3A%20%22%5Cu003cdiv%20style%3D%5C%22font-size%3A%2012%3B%20color%3Ared%3B%5C%22%5Cu003e%5Cu003cb%5Cu003eVAFB%20SLC-4E%5Cu003c/b%5Cu003e%5Cu003c/div%5Cu003e%22%2C%20%22iconAnchor%22%3A%20%5B0%2C%200%5D%2C%20%22iconSize%22%3A%20%5B20%2C%2020%5D%7D%29%3B%0A%20%20%20%20%20%20%20%20%20%20%20%20marker_1768bd9d8552461d9dd2e0fa19b859fe.setIcon%28div_icon_244cde2149734666a308078d9dc6f823%29%3B%0A%20%20%20%20%20%20%20%20%0A%20%20%20%20%0A%20%20%20%20%20%20%20%20%20%20%20%20var%20marker_cca6ec47e56d4b7ca33e236423fa5cb3%20%3D%20L.marker%28%0A%20%20%20%20%20%20%20%20%20%20%20%20%20%20%20%20%5B34.632834161782775%2C%20-120.61074553068327%5D%2C%0A%20%20%20%20%20%20%20%20%20%20%20%20%20%20%20%20%7B%7D%0A%20%20%20%20%20%20%20%20%20%20%20%20%29.addTo%28marker_cluster_285429c0d835448a9ed6c91238ae3e5f%29%3B%0A%20%20%20%20%20%20%20%20%0A%20%20%20%20%0A%20%20%20%20%20%20%20%20%20%20%20%20var%20div_icon_59ae23a2a8664876997158979b069dd1%20%3D%20L.divIcon%28%7B%22className%22%3A%20%22empty%22%2C%20%22html%22%3A%20%22%5Cu003cdiv%20style%3D%5C%22font-size%3A%2012%3B%20color%3Agreen%3B%5C%22%5Cu003e%5Cu003cb%5Cu003eVAFB%20SLC-4E%5Cu003c/b%5Cu003e%5Cu003c/div%5Cu003e%22%2C%20%22iconAnchor%22%3A%20%5B0%2C%200%5D%2C%20%22iconSize%22%3A%20%5B20%2C%2020%5D%7D%29%3B%0A%20%20%20%20%20%20%20%20%20%20%20%20marker_cca6ec47e56d4b7ca33e236423fa5cb3.setIcon%28div_icon_59ae23a2a8664876997158979b069dd1%29%3B%0A%20%20%20%20%20%20%20%20%0A%20%20%20%20%0A%20%20%20%20%20%20%20%20%20%20%20%20var%20marker_06b4612be09c48209715954f4993e864%20%3D%20L.marker%28%0A%20%20%20%20%20%20%20%20%20%20%20%20%20%20%20%20%5B34.632834161782775%2C%20-120.61074553068327%5D%2C%0A%20%20%20%20%20%20%20%20%20%20%20%20%20%20%20%20%7B%7D%0A%20%20%20%20%20%20%20%20%20%20%20%20%29.addTo%28marker_cluster_285429c0d835448a9ed6c91238ae3e5f%29%3B%0A%20%20%20%20%20%20%20%20%0A%20%20%20%20%0A%20%20%20%20%20%20%20%20%20%20%20%20var%20div_icon_8b635485fca54ba09af28f427c464507%20%3D%20L.divIcon%28%7B%22className%22%3A%20%22empty%22%2C%20%22html%22%3A%20%22%5Cu003cdiv%20style%3D%5C%22font-size%3A%2012%3B%20color%3Agreen%3B%5C%22%5Cu003e%5Cu003cb%5Cu003eVAFB%20SLC-4E%5Cu003c/b%5Cu003e%5Cu003c/div%5Cu003e%22%2C%20%22iconAnchor%22%3A%20%5B0%2C%200%5D%2C%20%22iconSize%22%3A%20%5B20%2C%2020%5D%7D%29%3B%0A%20%20%20%20%20%20%20%20%20%20%20%20marker_06b4612be09c48209715954f4993e864.setIcon%28div_icon_8b635485fca54ba09af28f427c464507%29%3B%0A%20%20%20%20%20%20%20%20%0A%20%20%20%20%0A%20%20%20%20%20%20%20%20%20%20%20%20var%20marker_079447b145854e0d85c79ba508f17155%20%3D%20L.marker%28%0A%20%20%20%20%20%20%20%20%20%20%20%20%20%20%20%20%5B34.632834161782775%2C%20-120.61074553068327%5D%2C%0A%20%20%20%20%20%20%20%20%20%20%20%20%20%20%20%20%7B%7D%0A%20%20%20%20%20%20%20%20%20%20%20%20%29.addTo%28marker_cluster_285429c0d835448a9ed6c91238ae3e5f%29%3B%0A%20%20%20%20%20%20%20%20%0A%20%20%20%20%0A%20%20%20%20%20%20%20%20%20%20%20%20var%20div_icon_d596706f040942e18e83b65aeab7e19e%20%3D%20L.divIcon%28%7B%22className%22%3A%20%22empty%22%2C%20%22html%22%3A%20%22%5Cu003cdiv%20style%3D%5C%22font-size%3A%2012%3B%20color%3Agreen%3B%5C%22%5Cu003e%5Cu003cb%5Cu003eVAFB%20SLC-4E%5Cu003c/b%5Cu003e%5Cu003c/div%5Cu003e%22%2C%20%22iconAnchor%22%3A%20%5B0%2C%200%5D%2C%20%22iconSize%22%3A%20%5B20%2C%2020%5D%7D%29%3B%0A%20%20%20%20%20%20%20%20%20%20%20%20marker_079447b145854e0d85c79ba508f17155.setIcon%28div_icon_d596706f040942e18e83b65aeab7e19e%29%3B%0A%20%20%20%20%20%20%20%20%0A%20%20%20%20%0A%20%20%20%20%20%20%20%20%20%20%20%20var%20marker_afb6e8652c8c4985b2149df89f878893%20%3D%20L.marker%28%0A%20%20%20%20%20%20%20%20%20%20%20%20%20%20%20%20%5B34.632834161782775%2C%20-120.61074553068327%5D%2C%0A%20%20%20%20%20%20%20%20%20%20%20%20%20%20%20%20%7B%7D%0A%20%20%20%20%20%20%20%20%20%20%20%20%29.addTo%28marker_cluster_285429c0d835448a9ed6c91238ae3e5f%29%3B%0A%20%20%20%20%20%20%20%20%0A%20%20%20%20%0A%20%20%20%20%20%20%20%20%20%20%20%20var%20div_icon_08a849ad2c5d43c2ada4406a14e150ff%20%3D%20L.divIcon%28%7B%22className%22%3A%20%22empty%22%2C%20%22html%22%3A%20%22%5Cu003cdiv%20style%3D%5C%22font-size%3A%2012%3B%20color%3Agreen%3B%5C%22%5Cu003e%5Cu003cb%5Cu003eVAFB%20SLC-4E%5Cu003c/b%5Cu003e%5Cu003c/div%5Cu003e%22%2C%20%22iconAnchor%22%3A%20%5B0%2C%200%5D%2C%20%22iconSize%22%3A%20%5B20%2C%2020%5D%7D%29%3B%0A%20%20%20%20%20%20%20%20%20%20%20%20marker_afb6e8652c8c4985b2149df89f878893.setIcon%28div_icon_08a849ad2c5d43c2ada4406a14e150ff%29%3B%0A%20%20%20%20%20%20%20%20%0A%20%20%20%20%0A%20%20%20%20%20%20%20%20%20%20%20%20var%20marker_13e5912e5bff4bb79d973cccf85be1b5%20%3D%20L.marker%28%0A%20%20%20%20%20%20%20%20%20%20%20%20%20%20%20%20%5B34.632834161782775%2C%20-120.61074553068327%5D%2C%0A%20%20%20%20%20%20%20%20%20%20%20%20%20%20%20%20%7B%7D%0A%20%20%20%20%20%20%20%20%20%20%20%20%29.addTo%28marker_cluster_285429c0d835448a9ed6c91238ae3e5f%29%3B%0A%20%20%20%20%20%20%20%20%0A%20%20%20%20%0A%20%20%20%20%20%20%20%20%20%20%20%20var%20div_icon_b9ebd273b68c4dd18dab15247abd196f%20%3D%20L.divIcon%28%7B%22className%22%3A%20%22empty%22%2C%20%22html%22%3A%20%22%5Cu003cdiv%20style%3D%5C%22font-size%3A%2012%3B%20color%3Ared%3B%5C%22%5Cu003e%5Cu003cb%5Cu003eVAFB%20SLC-4E%5Cu003c/b%5Cu003e%5Cu003c/div%5Cu003e%22%2C%20%22iconAnchor%22%3A%20%5B0%2C%200%5D%2C%20%22iconSize%22%3A%20%5B20%2C%2020%5D%7D%29%3B%0A%20%20%20%20%20%20%20%20%20%20%20%20marker_13e5912e5bff4bb79d973cccf85be1b5.setIcon%28div_icon_b9ebd273b68c4dd18dab15247abd196f%29%3B%0A%20%20%20%20%20%20%20%20%0A%20%20%20%20%0A%20%20%20%20%20%20%20%20%20%20%20%20var%20marker_83c824fb70d948129b4ac23b23765756%20%3D%20L.marker%28%0A%20%20%20%20%20%20%20%20%20%20%20%20%20%20%20%20%5B34.632834161782775%2C%20-120.61074553068327%5D%2C%0A%20%20%20%20%20%20%20%20%20%20%20%20%20%20%20%20%7B%7D%0A%20%20%20%20%20%20%20%20%20%20%20%20%29.addTo%28marker_cluster_285429c0d835448a9ed6c91238ae3e5f%29%3B%0A%20%20%20%20%20%20%20%20%0A%20%20%20%20%0A%20%20%20%20%20%20%20%20%20%20%20%20var%20div_icon_154c34048f7246f1b519b2c22dc7d7e3%20%3D%20L.divIcon%28%7B%22className%22%3A%20%22empty%22%2C%20%22html%22%3A%20%22%5Cu003cdiv%20style%3D%5C%22font-size%3A%2012%3B%20color%3Ared%3B%5C%22%5Cu003e%5Cu003cb%5Cu003eVAFB%20SLC-4E%5Cu003c/b%5Cu003e%5Cu003c/div%5Cu003e%22%2C%20%22iconAnchor%22%3A%20%5B0%2C%200%5D%2C%20%22iconSize%22%3A%20%5B20%2C%2020%5D%7D%29%3B%0A%20%20%20%20%20%20%20%20%20%20%20%20marker_83c824fb70d948129b4ac23b23765756.setIcon%28div_icon_154c34048f7246f1b519b2c22dc7d7e3%29%3B%0A%20%20%20%20%20%20%20%20%0A%20%20%20%20%0A%20%20%20%20%20%20%20%20%20%20%20%20var%20marker_f592540b90514c67960719e528bc191a%20%3D%20L.marker%28%0A%20%20%20%20%20%20%20%20%20%20%20%20%20%20%20%20%5B34.632834161782775%2C%20-120.61074553068327%5D%2C%0A%20%20%20%20%20%20%20%20%20%20%20%20%20%20%20%20%7B%7D%0A%20%20%20%20%20%20%20%20%20%20%20%20%29.addTo%28marker_cluster_285429c0d835448a9ed6c91238ae3e5f%29%3B%0A%20%20%20%20%20%20%20%20%0A%20%20%20%20%0A%20%20%20%20%20%20%20%20%20%20%20%20var%20div_icon_ed38183f4cbf47e799cce1dc3ea0f2f9%20%3D%20L.divIcon%28%7B%22className%22%3A%20%22empty%22%2C%20%22html%22%3A%20%22%5Cu003cdiv%20style%3D%5C%22font-size%3A%2012%3B%20color%3Ared%3B%5C%22%5Cu003e%5Cu003cb%5Cu003eVAFB%20SLC-4E%5Cu003c/b%5Cu003e%5Cu003c/div%5Cu003e%22%2C%20%22iconAnchor%22%3A%20%5B0%2C%200%5D%2C%20%22iconSize%22%3A%20%5B20%2C%2020%5D%7D%29%3B%0A%20%20%20%20%20%20%20%20%20%20%20%20marker_f592540b90514c67960719e528bc191a.setIcon%28div_icon_ed38183f4cbf47e799cce1dc3ea0f2f9%29%3B%0A%20%20%20%20%20%20%20%20%0A%20%20%20%20%0A%20%20%20%20%20%20%20%20%20%20%20%20var%20marker_a2f7a239b27248ffbb8c5ad9ba95357b%20%3D%20L.marker%28%0A%20%20%20%20%20%20%20%20%20%20%20%20%20%20%20%20%5B34.632834161782775%2C%20-120.61074553068327%5D%2C%0A%20%20%20%20%20%20%20%20%20%20%20%20%20%20%20%20%7B%7D%0A%20%20%20%20%20%20%20%20%20%20%20%20%29.addTo%28marker_cluster_285429c0d835448a9ed6c91238ae3e5f%29%3B%0A%20%20%20%20%20%20%20%20%0A%20%20%20%20%0A%20%20%20%20%20%20%20%20%20%20%20%20var%20div_icon_92300764b1504cdfb87557769d5783f4%20%3D%20L.divIcon%28%7B%22className%22%3A%20%22empty%22%2C%20%22html%22%3A%20%22%5Cu003cdiv%20style%3D%5C%22font-size%3A%2012%3B%20color%3Ared%3B%5C%22%5Cu003e%5Cu003cb%5Cu003eVAFB%20SLC-4E%5Cu003c/b%5Cu003e%5Cu003c/div%5Cu003e%22%2C%20%22iconAnchor%22%3A%20%5B0%2C%200%5D%2C%20%22iconSize%22%3A%20%5B20%2C%2020%5D%7D%29%3B%0A%20%20%20%20%20%20%20%20%20%20%20%20marker_a2f7a239b27248ffbb8c5ad9ba95357b.setIcon%28div_icon_92300764b1504cdfb87557769d5783f4%29%3B%0A%20%20%20%20%20%20%20%20%0A%20%20%20%20%0A%20%20%20%20%20%20%20%20%20%20%20%20var%20marker_b4ebd1c5aeb74e5db56aa1290d5bff3f%20%3D%20L.marker%28%0A%20%20%20%20%20%20%20%20%20%20%20%20%20%20%20%20%5B28.57325457037815%2C%20-80.64689528960382%5D%2C%0A%20%20%20%20%20%20%20%20%20%20%20%20%20%20%20%20%7B%7D%0A%20%20%20%20%20%20%20%20%20%20%20%20%29.addTo%28marker_cluster_285429c0d835448a9ed6c91238ae3e5f%29%3B%0A%20%20%20%20%20%20%20%20%0A%20%20%20%20%0A%20%20%20%20%20%20%20%20%20%20%20%20var%20div_icon_e394a55ce2e84fe6ab84e99e3d8a182e%20%3D%20L.divIcon%28%7B%22className%22%3A%20%22empty%22%2C%20%22html%22%3A%20%22%5Cu003cdiv%20style%3D%5C%22font-size%3A%2012%3B%20color%3Agreen%3B%5C%22%5Cu003e%5Cu003cb%5Cu003eKSC%20LC-39A%5Cu003c/b%5Cu003e%5Cu003c/div%5Cu003e%22%2C%20%22iconAnchor%22%3A%20%5B0%2C%200%5D%2C%20%22iconSize%22%3A%20%5B20%2C%2020%5D%7D%29%3B%0A%20%20%20%20%20%20%20%20%20%20%20%20marker_b4ebd1c5aeb74e5db56aa1290d5bff3f.setIcon%28div_icon_e394a55ce2e84fe6ab84e99e3d8a182e%29%3B%0A%20%20%20%20%20%20%20%20%0A%20%20%20%20%0A%20%20%20%20%20%20%20%20%20%20%20%20var%20marker_2a0bb50f6e574cae8548f769b6f41276%20%3D%20L.marker%28%0A%20%20%20%20%20%20%20%20%20%20%20%20%20%20%20%20%5B28.57325457037815%2C%20-80.64689528960382%5D%2C%0A%20%20%20%20%20%20%20%20%20%20%20%20%20%20%20%20%7B%7D%0A%20%20%20%20%20%20%20%20%20%20%20%20%29.addTo%28marker_cluster_285429c0d835448a9ed6c91238ae3e5f%29%3B%0A%20%20%20%20%20%20%20%20%0A%20%20%20%20%0A%20%20%20%20%20%20%20%20%20%20%20%20var%20div_icon_8dbda8354435469691ea1c757137e65b%20%3D%20L.divIcon%28%7B%22className%22%3A%20%22empty%22%2C%20%22html%22%3A%20%22%5Cu003cdiv%20style%3D%5C%22font-size%3A%2012%3B%20color%3Ared%3B%5C%22%5Cu003e%5Cu003cb%5Cu003eKSC%20LC-39A%5Cu003c/b%5Cu003e%5Cu003c/div%5Cu003e%22%2C%20%22iconAnchor%22%3A%20%5B0%2C%200%5D%2C%20%22iconSize%22%3A%20%5B20%2C%2020%5D%7D%29%3B%0A%20%20%20%20%20%20%20%20%20%20%20%20marker_2a0bb50f6e574cae8548f769b6f41276.setIcon%28div_icon_8dbda8354435469691ea1c757137e65b%29%3B%0A%20%20%20%20%20%20%20%20%0A%20%20%20%20%0A%20%20%20%20%20%20%20%20%20%20%20%20var%20marker_43685dd61a504e3d85f8593a6f601346%20%3D%20L.marker%28%0A%20%20%20%20%20%20%20%20%20%20%20%20%20%20%20%20%5B28.57325457037815%2C%20-80.64689528960382%5D%2C%0A%20%20%20%20%20%20%20%20%20%20%20%20%20%20%20%20%7B%7D%0A%20%20%20%20%20%20%20%20%20%20%20%20%29.addTo%28marker_cluster_285429c0d835448a9ed6c91238ae3e5f%29%3B%0A%20%20%20%20%20%20%20%20%0A%20%20%20%20%0A%20%20%20%20%20%20%20%20%20%20%20%20var%20div_icon_c955ade05eaa48c0aaad1d87e18f6676%20%3D%20L.divIcon%28%7B%22className%22%3A%20%22empty%22%2C%20%22html%22%3A%20%22%5Cu003cdiv%20style%3D%5C%22font-size%3A%2012%3B%20color%3Agreen%3B%5C%22%5Cu003e%5Cu003cb%5Cu003eKSC%20LC-39A%5Cu003c/b%5Cu003e%5Cu003c/div%5Cu003e%22%2C%20%22iconAnchor%22%3A%20%5B0%2C%200%5D%2C%20%22iconSize%22%3A%20%5B20%2C%2020%5D%7D%29%3B%0A%20%20%20%20%20%20%20%20%20%20%20%20marker_43685dd61a504e3d85f8593a6f601346.setIcon%28div_icon_c955ade05eaa48c0aaad1d87e18f6676%29%3B%0A%20%20%20%20%20%20%20%20%0A%20%20%20%20%0A%20%20%20%20%20%20%20%20%20%20%20%20var%20marker_16f090b84aa549b984b37bfafd272dc0%20%3D%20L.marker%28%0A%20%20%20%20%20%20%20%20%20%20%20%20%20%20%20%20%5B28.57325457037815%2C%20-80.64689528960382%5D%2C%0A%20%20%20%20%20%20%20%20%20%20%20%20%20%20%20%20%7B%7D%0A%20%20%20%20%20%20%20%20%20%20%20%20%29.addTo%28marker_cluster_285429c0d835448a9ed6c91238ae3e5f%29%3B%0A%20%20%20%20%20%20%20%20%0A%20%20%20%20%0A%20%20%20%20%20%20%20%20%20%20%20%20var%20div_icon_5f052ea7cf5a41e5b507c2196670cea9%20%3D%20L.divIcon%28%7B%22className%22%3A%20%22empty%22%2C%20%22html%22%3A%20%22%5Cu003cdiv%20style%3D%5C%22font-size%3A%2012%3B%20color%3Agreen%3B%5C%22%5Cu003e%5Cu003cb%5Cu003eKSC%20LC-39A%5Cu003c/b%5Cu003e%5Cu003c/div%5Cu003e%22%2C%20%22iconAnchor%22%3A%20%5B0%2C%200%5D%2C%20%22iconSize%22%3A%20%5B20%2C%2020%5D%7D%29%3B%0A%20%20%20%20%20%20%20%20%20%20%20%20marker_16f090b84aa549b984b37bfafd272dc0.setIcon%28div_icon_5f052ea7cf5a41e5b507c2196670cea9%29%3B%0A%20%20%20%20%20%20%20%20%0A%20%20%20%20%0A%20%20%20%20%20%20%20%20%20%20%20%20var%20marker_61a66b1b1d9c43ec9c7e4060f70ddc4c%20%3D%20L.marker%28%0A%20%20%20%20%20%20%20%20%20%20%20%20%20%20%20%20%5B28.57325457037815%2C%20-80.64689528960382%5D%2C%0A%20%20%20%20%20%20%20%20%20%20%20%20%20%20%20%20%7B%7D%0A%20%20%20%20%20%20%20%20%20%20%20%20%29.addTo%28marker_cluster_285429c0d835448a9ed6c91238ae3e5f%29%3B%0A%20%20%20%20%20%20%20%20%0A%20%20%20%20%0A%20%20%20%20%20%20%20%20%20%20%20%20var%20div_icon_a948154d1448443d8559033245918264%20%3D%20L.divIcon%28%7B%22className%22%3A%20%22empty%22%2C%20%22html%22%3A%20%22%5Cu003cdiv%20style%3D%5C%22font-size%3A%2012%3B%20color%3Ared%3B%5C%22%5Cu003e%5Cu003cb%5Cu003eKSC%20LC-39A%5Cu003c/b%5Cu003e%5Cu003c/div%5Cu003e%22%2C%20%22iconAnchor%22%3A%20%5B0%2C%200%5D%2C%20%22iconSize%22%3A%20%5B20%2C%2020%5D%7D%29%3B%0A%20%20%20%20%20%20%20%20%20%20%20%20marker_61a66b1b1d9c43ec9c7e4060f70ddc4c.setIcon%28div_icon_a948154d1448443d8559033245918264%29%3B%0A%20%20%20%20%20%20%20%20%0A%20%20%20%20%0A%20%20%20%20%20%20%20%20%20%20%20%20var%20marker_0d4f4ba074e14de2a92cfaaf61800f54%20%3D%20L.marker%28%0A%20%20%20%20%20%20%20%20%20%20%20%20%20%20%20%20%5B28.57325457037815%2C%20-80.64689528960382%5D%2C%0A%20%20%20%20%20%20%20%20%20%20%20%20%20%20%20%20%7B%7D%0A%20%20%20%20%20%20%20%20%20%20%20%20%29.addTo%28marker_cluster_285429c0d835448a9ed6c91238ae3e5f%29%3B%0A%20%20%20%20%20%20%20%20%0A%20%20%20%20%0A%20%20%20%20%20%20%20%20%20%20%20%20var%20div_icon_0fe64d925fc74d01b4b395e354c39119%20%3D%20L.divIcon%28%7B%22className%22%3A%20%22empty%22%2C%20%22html%22%3A%20%22%5Cu003cdiv%20style%3D%5C%22font-size%3A%2012%3B%20color%3Agreen%3B%5C%22%5Cu003e%5Cu003cb%5Cu003eKSC%20LC-39A%5Cu003c/b%5Cu003e%5Cu003c/div%5Cu003e%22%2C%20%22iconAnchor%22%3A%20%5B0%2C%200%5D%2C%20%22iconSize%22%3A%20%5B20%2C%2020%5D%7D%29%3B%0A%20%20%20%20%20%20%20%20%20%20%20%20marker_0d4f4ba074e14de2a92cfaaf61800f54.setIcon%28div_icon_0fe64d925fc74d01b4b395e354c39119%29%3B%0A%20%20%20%20%20%20%20%20%0A%20%20%20%20%0A%20%20%20%20%20%20%20%20%20%20%20%20var%20marker_cb0428d2ca1940c0a37aea32f8765ad2%20%3D%20L.marker%28%0A%20%20%20%20%20%20%20%20%20%20%20%20%20%20%20%20%5B28.57325457037815%2C%20-80.64689528960382%5D%2C%0A%20%20%20%20%20%20%20%20%20%20%20%20%20%20%20%20%7B%7D%0A%20%20%20%20%20%20%20%20%20%20%20%20%29.addTo%28marker_cluster_285429c0d835448a9ed6c91238ae3e5f%29%3B%0A%20%20%20%20%20%20%20%20%0A%20%20%20%20%0A%20%20%20%20%20%20%20%20%20%20%20%20var%20div_icon_baf69dda4de349f48c69204c0b0f66c5%20%3D%20L.divIcon%28%7B%22className%22%3A%20%22empty%22%2C%20%22html%22%3A%20%22%5Cu003cdiv%20style%3D%5C%22font-size%3A%2012%3B%20color%3Agreen%3B%5C%22%5Cu003e%5Cu003cb%5Cu003eKSC%20LC-39A%5Cu003c/b%5Cu003e%5Cu003c/div%5Cu003e%22%2C%20%22iconAnchor%22%3A%20%5B0%2C%200%5D%2C%20%22iconSize%22%3A%20%5B20%2C%2020%5D%7D%29%3B%0A%20%20%20%20%20%20%20%20%20%20%20%20marker_cb0428d2ca1940c0a37aea32f8765ad2.setIcon%28div_icon_baf69dda4de349f48c69204c0b0f66c5%29%3B%0A%20%20%20%20%20%20%20%20%0A%20%20%20%20%0A%20%20%20%20%20%20%20%20%20%20%20%20var%20marker_46c0bdae4b97499d97525fd353190afd%20%3D%20L.marker%28%0A%20%20%20%20%20%20%20%20%20%20%20%20%20%20%20%20%5B28.57325457037815%2C%20-80.64689528960382%5D%2C%0A%20%20%20%20%20%20%20%20%20%20%20%20%20%20%20%20%7B%7D%0A%20%20%20%20%20%20%20%20%20%20%20%20%29.addTo%28marker_cluster_285429c0d835448a9ed6c91238ae3e5f%29%3B%0A%20%20%20%20%20%20%20%20%0A%20%20%20%20%0A%20%20%20%20%20%20%20%20%20%20%20%20var%20div_icon_bcf71fcdfd6e46578549fde109677465%20%3D%20L.divIcon%28%7B%22className%22%3A%20%22empty%22%2C%20%22html%22%3A%20%22%5Cu003cdiv%20style%3D%5C%22font-size%3A%2012%3B%20color%3Ared%3B%5C%22%5Cu003e%5Cu003cb%5Cu003eKSC%20LC-39A%5Cu003c/b%5Cu003e%5Cu003c/div%5Cu003e%22%2C%20%22iconAnchor%22%3A%20%5B0%2C%200%5D%2C%20%22iconSize%22%3A%20%5B20%2C%2020%5D%7D%29%3B%0A%20%20%20%20%20%20%20%20%20%20%20%20marker_46c0bdae4b97499d97525fd353190afd.setIcon%28div_icon_bcf71fcdfd6e46578549fde109677465%29%3B%0A%20%20%20%20%20%20%20%20%0A%20%20%20%20%0A%20%20%20%20%20%20%20%20%20%20%20%20var%20marker_52e2de46efd64fdc95258869c98977b9%20%3D%20L.marker%28%0A%20%20%20%20%20%20%20%20%20%20%20%20%20%20%20%20%5B28.57325457037815%2C%20-80.64689528960382%5D%2C%0A%20%20%20%20%20%20%20%20%20%20%20%20%20%20%20%20%7B%7D%0A%20%20%20%20%20%20%20%20%20%20%20%20%29.addTo%28marker_cluster_285429c0d835448a9ed6c91238ae3e5f%29%3B%0A%20%20%20%20%20%20%20%20%0A%20%20%20%20%0A%20%20%20%20%20%20%20%20%20%20%20%20var%20div_icon_5601682c5d4b4471bd4de501f76c7b79%20%3D%20L.divIcon%28%7B%22className%22%3A%20%22empty%22%2C%20%22html%22%3A%20%22%5Cu003cdiv%20style%3D%5C%22font-size%3A%2012%3B%20color%3Agreen%3B%5C%22%5Cu003e%5Cu003cb%5Cu003eKSC%20LC-39A%5Cu003c/b%5Cu003e%5Cu003c/div%5Cu003e%22%2C%20%22iconAnchor%22%3A%20%5B0%2C%200%5D%2C%20%22iconSize%22%3A%20%5B20%2C%2020%5D%7D%29%3B%0A%20%20%20%20%20%20%20%20%20%20%20%20marker_52e2de46efd64fdc95258869c98977b9.setIcon%28div_icon_5601682c5d4b4471bd4de501f76c7b79%29%3B%0A%20%20%20%20%20%20%20%20%0A%20%20%20%20%0A%20%20%20%20%20%20%20%20%20%20%20%20var%20marker_623022e3d75a4da8a7419071e322315a%20%3D%20L.marker%28%0A%20%20%20%20%20%20%20%20%20%20%20%20%20%20%20%20%5B28.57325457037815%2C%20-80.64689528960382%5D%2C%0A%20%20%20%20%20%20%20%20%20%20%20%20%20%20%20%20%7B%7D%0A%20%20%20%20%20%20%20%20%20%20%20%20%29.addTo%28marker_cluster_285429c0d835448a9ed6c91238ae3e5f%29%3B%0A%20%20%20%20%20%20%20%20%0A%20%20%20%20%0A%20%20%20%20%20%20%20%20%20%20%20%20var%20div_icon_dd6f37d8f8dd4076be432dae1a23e4e9%20%3D%20L.divIcon%28%7B%22className%22%3A%20%22empty%22%2C%20%22html%22%3A%20%22%5Cu003cdiv%20style%3D%5C%22font-size%3A%2012%3B%20color%3Agreen%3B%5C%22%5Cu003e%5Cu003cb%5Cu003eKSC%20LC-39A%5Cu003c/b%5Cu003e%5Cu003c/div%5Cu003e%22%2C%20%22iconAnchor%22%3A%20%5B0%2C%200%5D%2C%20%22iconSize%22%3A%20%5B20%2C%2020%5D%7D%29%3B%0A%20%20%20%20%20%20%20%20%20%20%20%20marker_623022e3d75a4da8a7419071e322315a.setIcon%28div_icon_dd6f37d8f8dd4076be432dae1a23e4e9%29%3B%0A%20%20%20%20%20%20%20%20%0A%20%20%20%20%0A%20%20%20%20%20%20%20%20%20%20%20%20var%20marker_2008755d0f6f436a9937e67931725ecd%20%3D%20L.marker%28%0A%20%20%20%20%20%20%20%20%20%20%20%20%20%20%20%20%5B28.57325457037815%2C%20-80.64689528960382%5D%2C%0A%20%20%20%20%20%20%20%20%20%20%20%20%20%20%20%20%7B%7D%0A%20%20%20%20%20%20%20%20%20%20%20%20%29.addTo%28marker_cluster_285429c0d835448a9ed6c91238ae3e5f%29%3B%0A%20%20%20%20%20%20%20%20%0A%20%20%20%20%0A%20%20%20%20%20%20%20%20%20%20%20%20var%20div_icon_ac8ed88be70448b3a0e0e398bde09cff%20%3D%20L.divIcon%28%7B%22className%22%3A%20%22empty%22%2C%20%22html%22%3A%20%22%5Cu003cdiv%20style%3D%5C%22font-size%3A%2012%3B%20color%3Agreen%3B%5C%22%5Cu003e%5Cu003cb%5Cu003eKSC%20LC-39A%5Cu003c/b%5Cu003e%5Cu003c/div%5Cu003e%22%2C%20%22iconAnchor%22%3A%20%5B0%2C%200%5D%2C%20%22iconSize%22%3A%20%5B20%2C%2020%5D%7D%29%3B%0A%20%20%20%20%20%20%20%20%20%20%20%20marker_2008755d0f6f436a9937e67931725ecd.setIcon%28div_icon_ac8ed88be70448b3a0e0e398bde09cff%29%3B%0A%20%20%20%20%20%20%20%20%0A%20%20%20%20%0A%20%20%20%20%20%20%20%20%20%20%20%20var%20marker_4c478969b3414bbaa51487ec5ef7089e%20%3D%20L.marker%28%0A%20%20%20%20%20%20%20%20%20%20%20%20%20%20%20%20%5B28.57325457037815%2C%20-80.64689528960382%5D%2C%0A%20%20%20%20%20%20%20%20%20%20%20%20%20%20%20%20%7B%7D%0A%20%20%20%20%20%20%20%20%20%20%20%20%29.addTo%28marker_cluster_285429c0d835448a9ed6c91238ae3e5f%29%3B%0A%20%20%20%20%20%20%20%20%0A%20%20%20%20%0A%20%20%20%20%20%20%20%20%20%20%20%20var%20div_icon_388bdc526c2a490389f9d7d7e5e5fcb9%20%3D%20L.divIcon%28%7B%22className%22%3A%20%22empty%22%2C%20%22html%22%3A%20%22%5Cu003cdiv%20style%3D%5C%22font-size%3A%2012%3B%20color%3Agreen%3B%5C%22%5Cu003e%5Cu003cb%5Cu003eKSC%20LC-39A%5Cu003c/b%5Cu003e%5Cu003c/div%5Cu003e%22%2C%20%22iconAnchor%22%3A%20%5B0%2C%200%5D%2C%20%22iconSize%22%3A%20%5B20%2C%2020%5D%7D%29%3B%0A%20%20%20%20%20%20%20%20%20%20%20%20marker_4c478969b3414bbaa51487ec5ef7089e.setIcon%28div_icon_388bdc526c2a490389f9d7d7e5e5fcb9%29%3B%0A%20%20%20%20%20%20%20%20%0A%20%20%20%20%0A%20%20%20%20%20%20%20%20%20%20%20%20var%20marker_c063508f1e88491a97f4233fcb114797%20%3D%20L.marker%28%0A%20%20%20%20%20%20%20%20%20%20%20%20%20%20%20%20%5B28.57325457037815%2C%20-80.64689528960382%5D%2C%0A%20%20%20%20%20%20%20%20%20%20%20%20%20%20%20%20%7B%7D%0A%20%20%20%20%20%20%20%20%20%20%20%20%29.addTo%28marker_cluster_285429c0d835448a9ed6c91238ae3e5f%29%3B%0A%20%20%20%20%20%20%20%20%0A%20%20%20%20%0A%20%20%20%20%20%20%20%20%20%20%20%20var%20div_icon_9f0df2f3e9f54006929d96b9fdb1f3e2%20%3D%20L.divIcon%28%7B%22className%22%3A%20%22empty%22%2C%20%22html%22%3A%20%22%5Cu003cdiv%20style%3D%5C%22font-size%3A%2012%3B%20color%3Agreen%3B%5C%22%5Cu003e%5Cu003cb%5Cu003eKSC%20LC-39A%5Cu003c/b%5Cu003e%5Cu003c/div%5Cu003e%22%2C%20%22iconAnchor%22%3A%20%5B0%2C%200%5D%2C%20%22iconSize%22%3A%20%5B20%2C%2020%5D%7D%29%3B%0A%20%20%20%20%20%20%20%20%20%20%20%20marker_c063508f1e88491a97f4233fcb114797.setIcon%28div_icon_9f0df2f3e9f54006929d96b9fdb1f3e2%29%3B%0A%20%20%20%20%20%20%20%20%0A%20%20%20%20%0A%20%20%20%20%20%20%20%20%20%20%20%20var%20marker_4299faa19f6245238ab6ede962fa96a5%20%3D%20L.marker%28%0A%20%20%20%20%20%20%20%20%20%20%20%20%20%20%20%20%5B28.563197177407144%2C%20-80.57682003124195%5D%2C%0A%20%20%20%20%20%20%20%20%20%20%20%20%20%20%20%20%7B%7D%0A%20%20%20%20%20%20%20%20%20%20%20%20%29.addTo%28marker_cluster_285429c0d835448a9ed6c91238ae3e5f%29%3B%0A%20%20%20%20%20%20%20%20%0A%20%20%20%20%0A%20%20%20%20%20%20%20%20%20%20%20%20var%20div_icon_25e13d89f0cd491ab70028764137b11e%20%3D%20L.divIcon%28%7B%22className%22%3A%20%22empty%22%2C%20%22html%22%3A%20%22%5Cu003cdiv%20style%3D%5C%22font-size%3A%2012%3B%20color%3Agreen%3B%5C%22%5Cu003e%5Cu003cb%5Cu003eCCAFS%20SLC-40%5Cu003c/b%5Cu003e%5Cu003c/div%5Cu003e%22%2C%20%22iconAnchor%22%3A%20%5B0%2C%200%5D%2C%20%22iconSize%22%3A%20%5B20%2C%2020%5D%7D%29%3B%0A%20%20%20%20%20%20%20%20%20%20%20%20marker_4299faa19f6245238ab6ede962fa96a5.setIcon%28div_icon_25e13d89f0cd491ab70028764137b11e%29%3B%0A%20%20%20%20%20%20%20%20%0A%20%20%20%20%0A%20%20%20%20%20%20%20%20%20%20%20%20var%20marker_8ec019f084294e97ad60404f495a887b%20%3D%20L.marker%28%0A%20%20%20%20%20%20%20%20%20%20%20%20%20%20%20%20%5B28.563197177407144%2C%20-80.57682003124195%5D%2C%0A%20%20%20%20%20%20%20%20%20%20%20%20%20%20%20%20%7B%7D%0A%20%20%20%20%20%20%20%20%20%20%20%20%29.addTo%28marker_cluster_285429c0d835448a9ed6c91238ae3e5f%29%3B%0A%20%20%20%20%20%20%20%20%0A%20%20%20%20%0A%20%20%20%20%20%20%20%20%20%20%20%20var%20div_icon_730ddcc2656d4af0b157e27b2849d42a%20%3D%20L.divIcon%28%7B%22className%22%3A%20%22empty%22%2C%20%22html%22%3A%20%22%5Cu003cdiv%20style%3D%5C%22font-size%3A%2012%3B%20color%3Agreen%3B%5C%22%5Cu003e%5Cu003cb%5Cu003eCCAFS%20SLC-40%5Cu003c/b%5Cu003e%5Cu003c/div%5Cu003e%22%2C%20%22iconAnchor%22%3A%20%5B0%2C%200%5D%2C%20%22iconSize%22%3A%20%5B20%2C%2020%5D%7D%29%3B%0A%20%20%20%20%20%20%20%20%20%20%20%20marker_8ec019f084294e97ad60404f495a887b.setIcon%28div_icon_730ddcc2656d4af0b157e27b2849d42a%29%3B%0A%20%20%20%20%20%20%20%20%0A%20%20%20%20%0A%20%20%20%20%20%20%20%20%20%20%20%20var%20marker_bed79226010b4c0784a7d8948c504c4d%20%3D%20L.marker%28%0A%20%20%20%20%20%20%20%20%20%20%20%20%20%20%20%20%5B28.563197177407144%2C%20-80.57682003124195%5D%2C%0A%20%20%20%20%20%20%20%20%20%20%20%20%20%20%20%20%7B%7D%0A%20%20%20%20%20%20%20%20%20%20%20%20%29.addTo%28marker_cluster_285429c0d835448a9ed6c91238ae3e5f%29%3B%0A%20%20%20%20%20%20%20%20%0A%20%20%20%20%0A%20%20%20%20%20%20%20%20%20%20%20%20var%20div_icon_3112ea9f87a7477f8c5f278ddb45380b%20%3D%20L.divIcon%28%7B%22className%22%3A%20%22empty%22%2C%20%22html%22%3A%20%22%5Cu003cdiv%20style%3D%5C%22font-size%3A%2012%3B%20color%3Ared%3B%5C%22%5Cu003e%5Cu003cb%5Cu003eCCAFS%20SLC-40%5Cu003c/b%5Cu003e%5Cu003c/div%5Cu003e%22%2C%20%22iconAnchor%22%3A%20%5B0%2C%200%5D%2C%20%22iconSize%22%3A%20%5B20%2C%2020%5D%7D%29%3B%0A%20%20%20%20%20%20%20%20%20%20%20%20marker_bed79226010b4c0784a7d8948c504c4d.setIcon%28div_icon_3112ea9f87a7477f8c5f278ddb45380b%29%3B%0A%20%20%20%20%20%20%20%20%0A%20%20%20%20%0A%20%20%20%20%20%20%20%20%20%20%20%20var%20marker_dc42b63eaf184414bb24bd2d29c856d6%20%3D%20L.marker%28%0A%20%20%20%20%20%20%20%20%20%20%20%20%20%20%20%20%5B28.563197177407144%2C%20-80.57682003124195%5D%2C%0A%20%20%20%20%20%20%20%20%20%20%20%20%20%20%20%20%7B%7D%0A%20%20%20%20%20%20%20%20%20%20%20%20%29.addTo%28marker_cluster_285429c0d835448a9ed6c91238ae3e5f%29%3B%0A%20%20%20%20%20%20%20%20%0A%20%20%20%20%0A%20%20%20%20%20%20%20%20%20%20%20%20var%20div_icon_7c57dbf313c6468ca5b77f026d0440c3%20%3D%20L.divIcon%28%7B%22className%22%3A%20%22empty%22%2C%20%22html%22%3A%20%22%5Cu003cdiv%20style%3D%5C%22font-size%3A%2012%3B%20color%3Ared%3B%5C%22%5Cu003e%5Cu003cb%5Cu003eCCAFS%20SLC-40%5Cu003c/b%5Cu003e%5Cu003c/div%5Cu003e%22%2C%20%22iconAnchor%22%3A%20%5B0%2C%200%5D%2C%20%22iconSize%22%3A%20%5B20%2C%2020%5D%7D%29%3B%0A%20%20%20%20%20%20%20%20%20%20%20%20marker_dc42b63eaf184414bb24bd2d29c856d6.setIcon%28div_icon_7c57dbf313c6468ca5b77f026d0440c3%29%3B%0A%20%20%20%20%20%20%20%20%0A%20%20%20%20%0A%20%20%20%20%20%20%20%20%20%20%20%20var%20marker_c8f455f1f4de49acb456e2f0ae288ed2%20%3D%20L.marker%28%0A%20%20%20%20%20%20%20%20%20%20%20%20%20%20%20%20%5B28.563197177407144%2C%20-80.57682003124195%5D%2C%0A%20%20%20%20%20%20%20%20%20%20%20%20%20%20%20%20%7B%7D%0A%20%20%20%20%20%20%20%20%20%20%20%20%29.addTo%28marker_cluster_285429c0d835448a9ed6c91238ae3e5f%29%3B%0A%20%20%20%20%20%20%20%20%0A%20%20%20%20%0A%20%20%20%20%20%20%20%20%20%20%20%20var%20div_icon_28bcdada30524f0b942d80bd18da9c08%20%3D%20L.divIcon%28%7B%22className%22%3A%20%22empty%22%2C%20%22html%22%3A%20%22%5Cu003cdiv%20style%3D%5C%22font-size%3A%2012%3B%20color%3Ared%3B%5C%22%5Cu003e%5Cu003cb%5Cu003eCCAFS%20SLC-40%5Cu003c/b%5Cu003e%5Cu003c/div%5Cu003e%22%2C%20%22iconAnchor%22%3A%20%5B0%2C%200%5D%2C%20%22iconSize%22%3A%20%5B20%2C%2020%5D%7D%29%3B%0A%20%20%20%20%20%20%20%20%20%20%20%20marker_c8f455f1f4de49acb456e2f0ae288ed2.setIcon%28div_icon_28bcdada30524f0b942d80bd18da9c08%29%3B%0A%20%20%20%20%20%20%20%20%0A%20%20%20%20%0A%20%20%20%20%20%20%20%20%20%20%20%20var%20marker_cbc9339122bf4906b307202e236c0237%20%3D%20L.marker%28%0A%20%20%20%20%20%20%20%20%20%20%20%20%20%20%20%20%5B28.563197177407144%2C%20-80.57682003124195%5D%2C%0A%20%20%20%20%20%20%20%20%20%20%20%20%20%20%20%20%7B%7D%0A%20%20%20%20%20%20%20%20%20%20%20%20%29.addTo%28marker_cluster_285429c0d835448a9ed6c91238ae3e5f%29%3B%0A%20%20%20%20%20%20%20%20%0A%20%20%20%20%0A%20%20%20%20%20%20%20%20%20%20%20%20var%20div_icon_021a315e649049c4a2c14b1e4a10ad4a%20%3D%20L.divIcon%28%7B%22className%22%3A%20%22empty%22%2C%20%22html%22%3A%20%22%5Cu003cdiv%20style%3D%5C%22font-size%3A%2012%3B%20color%3Agreen%3B%5C%22%5Cu003e%5Cu003cb%5Cu003eCCAFS%20SLC-40%5Cu003c/b%5Cu003e%5Cu003c/div%5Cu003e%22%2C%20%22iconAnchor%22%3A%20%5B0%2C%200%5D%2C%20%22iconSize%22%3A%20%5B20%2C%2020%5D%7D%29%3B%0A%20%20%20%20%20%20%20%20%20%20%20%20marker_cbc9339122bf4906b307202e236c0237.setIcon%28div_icon_021a315e649049c4a2c14b1e4a10ad4a%29%3B%0A%20%20%20%20%20%20%20%20%0A%20%20%20%20%0A%20%20%20%20%20%20%20%20%20%20%20%20var%20marker_c16a88dd2c25487db4150c8a0bce1b54%20%3D%20L.marker%28%0A%20%20%20%20%20%20%20%20%20%20%20%20%20%20%20%20%5B28.563197177407144%2C%20-80.57682003124195%5D%2C%0A%20%20%20%20%20%20%20%20%20%20%20%20%20%20%20%20%7B%7D%0A%20%20%20%20%20%20%20%20%20%20%20%20%29.addTo%28marker_cluster_285429c0d835448a9ed6c91238ae3e5f%29%3B%0A%20%20%20%20%20%20%20%20%0A%20%20%20%20%0A%20%20%20%20%20%20%20%20%20%20%20%20var%20div_icon_e8c3feb8e395446ba66edb9077042e98%20%3D%20L.divIcon%28%7B%22className%22%3A%20%22empty%22%2C%20%22html%22%3A%20%22%5Cu003cdiv%20style%3D%5C%22font-size%3A%2012%3B%20color%3Ared%3B%5C%22%5Cu003e%5Cu003cb%5Cu003eCCAFS%20SLC-40%5Cu003c/b%5Cu003e%5Cu003c/div%5Cu003e%22%2C%20%22iconAnchor%22%3A%20%5B0%2C%200%5D%2C%20%22iconSize%22%3A%20%5B20%2C%2020%5D%7D%29%3B%0A%20%20%20%20%20%20%20%20%20%20%20%20marker_c16a88dd2c25487db4150c8a0bce1b54.setIcon%28div_icon_e8c3feb8e395446ba66edb9077042e98%29%3B%0A%20%20%20%20%20%20%20%20%0A%3C/script%3E onload=\"this.contentDocument.open();this.contentDocument.write(    decodeURIComponent(this.getAttribute('data-html')));this.contentDocument.close();\" allowfullscreen webkitallowfullscreen mozallowfullscreen></iframe></div></div>"
      ],
      "text/plain": [
       "<folium.folium.Map at 0x7f94e79bf670>"
      ]
     },
     "execution_count": 30,
     "metadata": {},
     "output_type": "execute_result"
    }
   ],
   "source": [
    "# Add marker_cluster to current site_map\n",
    "site_map.add_child(marker_cluster)\n",
    "\n",
    "# for each row in spacex_df data frame\n",
    "# create a Marker object with its coordinate\n",
    "# and customize the Marker's icon property to indicate if this launch was successed or failed, \n",
    "# e.g., icon=folium.Icon(color='white', icon_color=row['marker_color']\n",
    "for index, record in spacex_df.iterrows():\n",
    "    marker = folium.map.Marker([record['Lat'], record['Long']], icon=DivIcon(icon_size=(20,20),icon_anchor=(0,0), html='<div style=\"font-size: 12; color:' +record['marker_color'] + ';\"><b>%s</b></div>' % record['Launch Site'], ))\n",
    "    # marker = folium.Marker(...)\n",
    "    marker_cluster.add_child(marker)\n",
    "\n",
    "site_map"
   ]
  },
  {
   "cell_type": "markdown",
   "metadata": {},
   "source": [
    "Your updated map may look like the following screenshots:\n"
   ]
  },
  {
   "cell_type": "markdown",
   "metadata": {},
   "source": [
    "<center>\n",
    "    <img src=\"https://cf-courses-data.s3.us.cloud-object-storage.appdomain.cloud/IBM-DS0321EN-SkillsNetwork/labs/module_3/images/launch_site_marker_cluster.png\" />\n",
    "</center>\n"
   ]
  },
  {
   "cell_type": "markdown",
   "metadata": {},
   "source": [
    "<center>\n",
    "    <img src=\"https://cf-courses-data.s3.us.cloud-object-storage.appdomain.cloud/IBM-DS0321EN-SkillsNetwork/labs/module_3/images/launch_site_marker_cluster_zoomed.png\" />\n",
    "</center>\n"
   ]
  },
  {
   "cell_type": "markdown",
   "metadata": {},
   "source": [
    "From the color-labeled markers in marker clusters, you should be able to easily identify which launch sites have relatively high success rates.\n"
   ]
  },
  {
   "cell_type": "markdown",
   "metadata": {},
   "source": [
    "# TASK 3: Calculate the distances between a launch site to its proximities\n"
   ]
  },
  {
   "cell_type": "markdown",
   "metadata": {},
   "source": [
    "Next, we need to explore and analyze the proximities of launch sites.\n"
   ]
  },
  {
   "cell_type": "markdown",
   "metadata": {},
   "source": [
    "Let's first add a `MousePosition` on the map to get coordinate for a mouse over a point on the map. As such, while you are exploring the map, you can easily find the coordinates of any points of interests (such as railway)\n"
   ]
  },
  {
   "cell_type": "code",
   "execution_count": null,
   "metadata": {},
   "outputs": [],
   "source": [
    "# Add Mouse Position to get the coordinate (Lat, Long) for a mouse over on the map\n",
    "formatter = \"function(num) {return L.Util.formatNum(num, 5);};\"\n",
    "mouse_position = MousePosition(\n",
    "    position='topright',\n",
    "    separator=' Long: ',\n",
    "    empty_string='NaN',\n",
    "    lng_first=False,\n",
    "    num_digits=20,\n",
    "    prefix='Lat:',\n",
    "    lat_formatter=formatter,\n",
    "    lng_formatter=formatter,\n",
    ")\n",
    "\n",
    "site_map.add_child(mouse_position)\n",
    "site_map"
   ]
  },
  {
   "cell_type": "markdown",
   "metadata": {},
   "source": [
    "Now zoom in to a launch site and explore its proximity to see if you can easily find any railway, highway, coastline, etc. Move your mouse to these points and mark down their coordinates (shown on the top-left) in order to the distance to the launch site.\n"
   ]
  },
  {
   "cell_type": "markdown",
   "metadata": {},
   "source": [
    "You can calculate the distance between two points on the map based on their `Lat` and `Long` values using the following method:\n"
   ]
  },
  {
   "cell_type": "code",
   "execution_count": null,
   "metadata": {},
   "outputs": [],
   "source": [
    "from math import sin, cos, sqrt, atan2, radians\n",
    "\n",
    "def calculate_distance(lat1, lon1, lat2, lon2):\n",
    "    # approximate radius of earth in km\n",
    "    R = 6373.0\n",
    "\n",
    "    lat1 = radians(lat1)\n",
    "    lon1 = radians(lon1)\n",
    "    lat2 = radians(lat2)\n",
    "    lon2 = radians(lon2)\n",
    "\n",
    "    dlon = lon2 - lon1\n",
    "    dlat = lat2 - lat1\n",
    "\n",
    "    a = sin(dlat / 2)**2 + cos(lat1) * cos(lat2) * sin(dlon / 2)**2\n",
    "    c = 2 * atan2(sqrt(a), sqrt(1 - a))\n",
    "\n",
    "    distance = R * c\n",
    "    return distance"
   ]
  },
  {
   "cell_type": "markdown",
   "metadata": {},
   "source": [
    "*TODO:* Mark down a point on the closest coastline using MousePosition and calculate the distance between the coastline point and the launch site.\n"
   ]
  },
  {
   "cell_type": "code",
   "execution_count": null,
   "metadata": {},
   "outputs": [],
   "source": [
    "# find coordinate of the closet coastline\n",
    "# e.g.,: Lat: 28.56367  Lon: -80.57163\n",
    "# distance_coastline = calculate_distance(launch_site_lat, launch_site_lon, coastline_lat, coastline_lon)"
   ]
  },
  {
   "cell_type": "markdown",
   "metadata": {},
   "source": [
    "*TODO:* After obtained its coordinate, create a `folium.Marker` to show the distance\n"
   ]
  },
  {
   "cell_type": "code",
   "execution_count": null,
   "metadata": {},
   "outputs": [],
   "source": [
    "# Create and add a folium.Marker on your selected closest coastline point on the map\n",
    "# Display the distance between coastline point and launch site using the icon property \n",
    "# for example\n",
    "# distance_marker = folium.Marker(\n",
    "#    coordinate,\n",
    "#    icon=DivIcon(\n",
    "#        icon_size=(20,20),\n",
    "#        icon_anchor=(0,0),\n",
    "#        html='<div style=\"font-size: 12; color:#d35400;\"><b>%s</b></div>' % \"{:10.2f} KM\".format(distance),\n",
    "#        )\n",
    "#    )"
   ]
  },
  {
   "cell_type": "markdown",
   "metadata": {},
   "source": [
    "*TODO:* Draw a `PolyLine` between a launch site to the selected coastline point\n"
   ]
  },
  {
   "cell_type": "code",
   "execution_count": null,
   "metadata": {},
   "outputs": [],
   "source": [
    "# Create a `folium.PolyLine` object using the coastline coordinates and launch site coordinate\n",
    "# lines=folium.PolyLine(locations=coordinates, weight=1)\n",
    "site_map.add_child(lines)"
   ]
  },
  {
   "cell_type": "markdown",
   "metadata": {},
   "source": [
    "Your updated map with distance line should look like the following screenshot:\n"
   ]
  },
  {
   "cell_type": "markdown",
   "metadata": {},
   "source": [
    "<center>\n",
    "    <img src=\"https://cf-courses-data.s3.us.cloud-object-storage.appdomain.cloud/IBM-DS0321EN-SkillsNetwork/labs/module_3/images/launch_site_marker_distance.png\" />\n",
    "</center>\n"
   ]
  },
  {
   "cell_type": "markdown",
   "metadata": {},
   "source": [
    "*TODO:* Similarly, you can draw a line betwee a launch site to its closest city, railway, highway, etc. You need to use `MousePosition` to find the their coordinates on the map first\n"
   ]
  },
  {
   "cell_type": "markdown",
   "metadata": {},
   "source": [
    "A railway map symbol may look like this:\n"
   ]
  },
  {
   "cell_type": "markdown",
   "metadata": {},
   "source": [
    "<center>\n",
    "    <img src=\"https://cf-courses-data.s3.us.cloud-object-storage.appdomain.cloud/IBM-DS0321EN-SkillsNetwork/labs/module_3/images/railway.png\" />\n",
    "</center>\n"
   ]
  },
  {
   "cell_type": "markdown",
   "metadata": {},
   "source": [
    "A highway map symbol may look like this:\n"
   ]
  },
  {
   "cell_type": "markdown",
   "metadata": {},
   "source": [
    "<center>\n",
    "    <img src=\"https://cf-courses-data.s3.us.cloud-object-storage.appdomain.cloud/IBM-DS0321EN-SkillsNetwork/labs/module_3/images/highway.png\" />\n",
    "</center>\n"
   ]
  },
  {
   "cell_type": "markdown",
   "metadata": {},
   "source": [
    "A city map symbol may look like this:\n"
   ]
  },
  {
   "cell_type": "markdown",
   "metadata": {},
   "source": [
    "<center>\n",
    "    <img src=\"https://cf-courses-data.s3.us.cloud-object-storage.appdomain.cloud/IBM-DS0321EN-SkillsNetwork/labs/module_3/images/city.png\" />\n",
    "</center>\n"
   ]
  },
  {
   "cell_type": "code",
   "execution_count": null,
   "metadata": {},
   "outputs": [],
   "source": [
    "# Create a marker with distance to a closest city, railway, highway, etc.\n",
    "# Draw a line between the marker to the launch site\n"
   ]
  },
  {
   "cell_type": "code",
   "execution_count": null,
   "metadata": {},
   "outputs": [],
   "source": []
  },
  {
   "cell_type": "code",
   "execution_count": null,
   "metadata": {},
   "outputs": [],
   "source": []
  },
  {
   "cell_type": "markdown",
   "metadata": {},
   "source": [
    "After you plot distance lines to the proximities, you can answer the following questions easily:\n",
    "\n",
    "*   Are launch sites in close proximity to railways?\n",
    "*   Are launch sites in close proximity to highways?\n",
    "*   Are launch sites in close proximity to coastline?\n",
    "*   Do launch sites keep certain distance away from cities?\n",
    "\n",
    "Also please try to explain your findings.\n"
   ]
  },
  {
   "cell_type": "markdown",
   "metadata": {},
   "source": [
    "# Next Steps:\n",
    "\n",
    "Now you have discovered many interesting insights related to the launch sites' location using folium, in a very interactive way. Next, you will need to build a dashboard using Ploty Dash on detailed launch records.\n"
   ]
  },
  {
   "cell_type": "markdown",
   "metadata": {},
   "source": [
    "## Authors\n"
   ]
  },
  {
   "cell_type": "markdown",
   "metadata": {},
   "source": [
    "[Yan Luo](https://www.linkedin.com/in/yan-luo-96288783/?utm_medium=Exinfluencer&utm_source=Exinfluencer&utm_content=000026UJ&utm_term=10006555&utm_id=NA-SkillsNetwork-Channel-SkillsNetworkCoursesIBMDS0321ENSkillsNetwork26802033-2021-01-01)\n"
   ]
  },
  {
   "cell_type": "markdown",
   "metadata": {},
   "source": [
    "### Other Contributors\n"
   ]
  },
  {
   "cell_type": "markdown",
   "metadata": {},
   "source": [
    "Joseph Santarcangelo\n"
   ]
  },
  {
   "cell_type": "markdown",
   "metadata": {},
   "source": [
    "## Change Log\n"
   ]
  },
  {
   "cell_type": "markdown",
   "metadata": {},
   "source": [
    "| Date (YYYY-MM-DD) | Version | Changed By | Change Description          |\n",
    "| ----------------- | ------- | ---------- | --------------------------- |\n",
    "| 2021-05-26        | 1.0     | Yan        | Created the initial version |\n"
   ]
  },
  {
   "cell_type": "markdown",
   "metadata": {},
   "source": [
    "Copyright © 2021 IBM Corporation. All rights reserved.\n"
   ]
  }
 ],
 "metadata": {
  "kernelspec": {
   "display_name": "Python 3 (ipykernel)",
   "language": "python",
   "name": "python3"
  },
  "language_info": {
   "codemirror_mode": {
    "name": "ipython",
    "version": 3
   },
   "file_extension": ".py",
   "mimetype": "text/x-python",
   "name": "python",
   "nbconvert_exporter": "python",
   "pygments_lexer": "ipython3",
   "version": "3.9.7"
  },
  "papermill": {
   "duration": 142.196942,
   "end_time": "2020-09-19T06:29:13.341578",
   "environment_variables": {},
   "exception": null,
   "input_path": "__notebook__.ipynb",
   "output_path": "__notebook__.ipynb",
   "parameters": {},
   "start_time": "2020-09-19T06:26:51.144636",
   "version": "2.1.0"
  }
 },
 "nbformat": 4,
 "nbformat_minor": 4
}
